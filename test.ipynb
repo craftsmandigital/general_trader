{
 "cells": [
  {
   "cell_type": "code",
   "execution_count": 1,
   "id": "5ae57e8e-6d71-4e91-8fef-ac521dd08d20",
   "metadata": {},
   "outputs": [],
   "source": [
    "from general_trader import GeneralTrader\n",
    "import polars as pl\n",
    "import polars_talib as pltalib\n",
    "from trading_helpers import TradingData"
   ]
  },
  {
   "cell_type": "code",
   "execution_count": 2,
   "id": "860823fd-41c3-44b3-85f2-d83bd0fd0001",
   "metadata": {},
   "outputs": [
    {
     "name": "stdout",
     "output_type": "stream",
     "text": [
      "TradingData Initialized\n",
      "shape: (4_300_704, 7)\n",
      "┌─────────────────────┬───────────┬────────────┬───────────┬───────────┬─────────┬────────┐\n",
      "│ date                ┆ close     ┆ high       ┆ low       ┆ open      ┆ volume  ┆ ticker │\n",
      "│ ---                 ┆ ---       ┆ ---        ┆ ---       ┆ ---       ┆ ---     ┆ ---    │\n",
      "│ datetime[ns]        ┆ f64       ┆ f64        ┆ f64       ┆ f64       ┆ i64     ┆ str    │\n",
      "╞═════════════════════╪═══════════╪════════════╪═══════════╪═══════════╪═════════╪════════╡\n",
      "│ 1994-10-18 00:00:00 ┆ 1.205047  ┆ 1.214462   ┆ 1.186218  ┆ 1.205047  ┆ 418166  ┆ O      │\n",
      "│ 1994-10-19 00:00:00 ┆ 1.308607  ┆ 1.318021   ┆ 1.214463  ┆ 1.214463  ┆ 249950  ┆ O      │\n",
      "│ 1994-10-20 00:00:00 ┆ 1.318019  ┆ 1.365091   ┆ 1.318019  ┆ 1.327434  ┆ 141590  ┆ O      │\n",
      "│ 1994-10-21 00:00:00 ┆ 1.299191  ┆ 1.327434   ┆ 1.289776  ┆ 1.318019  ┆ 68731   ┆ O      │\n",
      "│ 1994-10-24 00:00:00 ┆ 1.270948  ┆ 1.327435   ┆ 1.270948  ┆ 1.299192  ┆ 75749   ┆ O      │\n",
      "│ …                   ┆ …         ┆ …          ┆ …         ┆ …         ┆ …       ┆ …      │\n",
      "│ 2025-04-11 00:00:00 ┆ 94.470001 ┆ 95.480003  ┆ 91.440002 ┆ 93.349998 ┆ 1634900 ┆ NRG    │\n",
      "│ 2025-04-14 00:00:00 ┆ 95.919998 ┆ 97.610001  ┆ 95.0      ┆ 97.449997 ┆ 1981700 ┆ NRG    │\n",
      "│ 2025-04-15 00:00:00 ┆ 97.110001 ┆ 98.5       ┆ 96.0      ┆ 96.0      ┆ 1513700 ┆ NRG    │\n",
      "│ 2025-04-16 00:00:00 ┆ 98.089996 ┆ 99.099998  ┆ 95.379997 ┆ 95.489998 ┆ 2217500 ┆ NRG    │\n",
      "│ 2025-04-17 00:00:00 ┆ 97.860001 ┆ 100.669998 ┆ 97.099998 ┆ 99.040001 ┆ 1945900 ┆ NRG    │\n",
      "└─────────────────────┴───────────┴────────────┴───────────┴───────────┴─────────┴────────┘\n"
     ]
    }
   ],
   "source": [
    "traderData = TradingData(\n",
    "    \"/mnt/jonarne/dev/trading_data/\",\n",
    "    \"/SP500/\",\n",
    "    \"SP500_list.parquet\",\n",
    ")\n",
    "# download_all_tickers. This function is only needed to call once,\n",
    "# or when you decide to download new fresh ticker and sector data\n",
    "#traderData.download_all_tickers()\n",
    "\n",
    "\n",
    "# populate polars dataframe with open, close, high, low and volume data\n",
    "ochl_data = traderData.load_ticker_parquet_files()\n",
    "print(ochl_data.collect())\n"
   ]
  },
  {
   "cell_type": "code",
   "execution_count": 3,
   "id": "01ab732a-6692-4d81-b3df-9c9684b16254",
   "metadata": {},
   "outputs": [
    {
     "name": "stdout",
     "output_type": "stream",
     "text": [
      "--- Testing Valid Instantiation ---\n",
      "Successfully created GeneralTrader instance.\n",
      "DataFrame Schema: Schema([('close', Float64), ('ticker', String), ('date', Datetime(time_unit='ns', time_zone=None))])\n",
      "Initial Filter: None\n"
     ]
    }
   ],
   "source": [
    "\n",
    "\n",
    "    # Define a sample Polars expression\n",
    "    #my_filter = (pl.col(\"close\") > 100) & (pl.col(\"volume\") > 50000)\n",
    "my_filter = None\n",
    "    # --- Test Cases ---\n",
    "\n",
    "print(\"--- Testing Valid Instantiation ---\")\n",
    "try:\n",
    "    trader = GeneralTrader(ohlcColumnsToUse=[\"close\"], df_ohlc=ochl_data.collect(), initialFilter=my_filter)\n",
    "    print(\"Successfully created GeneralTrader instance.\")\n",
    "    print(\"DataFrame Schema:\", trader.df_ohlc.schema)\n",
    "    print(\"Initial Filter:\", trader.initialFilter)\n",
    "except ValidationError as e:\n",
    "    print(\"Validation Error (unexpected):\", e)"
   ]
  },
  {
   "cell_type": "code",
   "execution_count": 4,
   "id": "65b4c049-591d-419b-b6d9-4fafb1cb018e",
   "metadata": {},
   "outputs": [
    {
     "data": {
      "text/html": [
       "<div><style>\n",
       ".dataframe > thead > tr,\n",
       ".dataframe > tbody > tr {\n",
       "  text-align: right;\n",
       "  white-space: pre-wrap;\n",
       "}\n",
       "</style>\n",
       "<small>shape: (4_300_704, 3)</small><table border=\"1\" class=\"dataframe\"><thead><tr><th>close</th><th>ticker</th><th>date</th></tr><tr><td>f64</td><td>str</td><td>datetime[ns]</td></tr></thead><tbody><tr><td>1.205047</td><td>&quot;O&quot;</td><td>1994-10-18 00:00:00</td></tr><tr><td>1.308607</td><td>&quot;O&quot;</td><td>1994-10-19 00:00:00</td></tr><tr><td>1.318019</td><td>&quot;O&quot;</td><td>1994-10-20 00:00:00</td></tr><tr><td>1.299191</td><td>&quot;O&quot;</td><td>1994-10-21 00:00:00</td></tr><tr><td>1.270948</td><td>&quot;O&quot;</td><td>1994-10-24 00:00:00</td></tr><tr><td>&hellip;</td><td>&hellip;</td><td>&hellip;</td></tr><tr><td>94.470001</td><td>&quot;NRG&quot;</td><td>2025-04-11 00:00:00</td></tr><tr><td>95.919998</td><td>&quot;NRG&quot;</td><td>2025-04-14 00:00:00</td></tr><tr><td>97.110001</td><td>&quot;NRG&quot;</td><td>2025-04-15 00:00:00</td></tr><tr><td>98.089996</td><td>&quot;NRG&quot;</td><td>2025-04-16 00:00:00</td></tr><tr><td>97.860001</td><td>&quot;NRG&quot;</td><td>2025-04-17 00:00:00</td></tr></tbody></table></div>"
      ],
      "text/plain": [
       "shape: (4_300_704, 3)\n",
       "┌───────────┬────────┬─────────────────────┐\n",
       "│ close     ┆ ticker ┆ date                │\n",
       "│ ---       ┆ ---    ┆ ---                 │\n",
       "│ f64       ┆ str    ┆ datetime[ns]        │\n",
       "╞═══════════╪════════╪═════════════════════╡\n",
       "│ 1.205047  ┆ O      ┆ 1994-10-18 00:00:00 │\n",
       "│ 1.308607  ┆ O      ┆ 1994-10-19 00:00:00 │\n",
       "│ 1.318019  ┆ O      ┆ 1994-10-20 00:00:00 │\n",
       "│ 1.299191  ┆ O      ┆ 1994-10-21 00:00:00 │\n",
       "│ 1.270948  ┆ O      ┆ 1994-10-24 00:00:00 │\n",
       "│ …         ┆ …      ┆ …                   │\n",
       "│ 94.470001 ┆ NRG    ┆ 2025-04-11 00:00:00 │\n",
       "│ 95.919998 ┆ NRG    ┆ 2025-04-14 00:00:00 │\n",
       "│ 97.110001 ┆ NRG    ┆ 2025-04-15 00:00:00 │\n",
       "│ 98.089996 ┆ NRG    ┆ 2025-04-16 00:00:00 │\n",
       "│ 97.860001 ┆ NRG    ┆ 2025-04-17 00:00:00 │\n",
       "└───────────┴────────┴─────────────────────┘"
      ]
     },
     "execution_count": 4,
     "metadata": {},
     "output_type": "execute_result"
    }
   ],
   "source": [
    "trader.df_ohlc"
   ]
  },
  {
   "cell_type": "code",
   "execution_count": 5,
   "id": "ad3512d4-3829-4f75-a2cd-5c06f7491b3c",
   "metadata": {},
   "outputs": [
    {
     "data": {
      "text/plain": [
       "GeneralTrader(df_ohlc=shape: (1_033_762, 6)\n",
       "┌───────────┬────────┬─────────────────────┬───────────┬───────────┬────────────┐\n",
       "│ close     ┆ ticker ┆ date                ┆ sma       ┆ mean_B    ┆ A_plus_B   │\n",
       "│ ---       ┆ ---    ┆ ---                 ┆ ---       ┆ ---       ┆ ---        │\n",
       "│ f64       ┆ str    ┆ datetime[ns]        ┆ f64       ┆ f64       ┆ f64        │\n",
       "╞═══════════╪════════╪═════════════════════╪═══════════╪═══════════╪════════════╡\n",
       "│ 50.253445 ┆ O      ┆ 2019-02-05 00:00:00 ┆ 41.484557 ┆ 22.008229 ┆ 100.506889 │\n",
       "│ 50.151932 ┆ O      ┆ 2019-02-06 00:00:00 ┆ 41.562488 ┆ 22.008229 ┆ 100.303864 │\n",
       "│ 50.818882 ┆ O      ┆ 2019-02-07 00:00:00 ┆ 41.645151 ┆ 22.008229 ┆ 101.637764 │\n",
       "│ 50.804382 ┆ O      ┆ 2019-02-08 00:00:00 ┆ 41.726519 ┆ 22.008229 ┆ 101.608765 │\n",
       "│ 51.043633 ┆ O      ┆ 2019-02-11 00:00:00 ┆ 41.80863  ┆ 22.008229 ┆ 102.087265 │\n",
       "│ …         ┆ …      ┆ …                   ┆ …         ┆ …         ┆ …          │\n",
       "│ 94.470001 ┆ NRG    ┆ 2025-04-11 00:00:00 ┆ 90.291616 ┆ 25.908705 ┆ 188.940002 │\n",
       "│ 95.919998 ┆ NRG    ┆ 2025-04-14 00:00:00 ┆ 90.37925  ┆ 25.908705 ┆ 191.839996 │\n",
       "│ 97.110001 ┆ NRG    ┆ 2025-04-15 00:00:00 ┆ 90.477072 ┆ 25.908705 ┆ 194.220001 │\n",
       "│ 98.089996 ┆ NRG    ┆ 2025-04-16 00:00:00 ┆ 90.583738 ┆ 25.908705 ┆ 196.179993 │\n",
       "│ 97.860001 ┆ NRG    ┆ 2025-04-17 00:00:00 ┆ 90.689304 ┆ 25.908705 ┆ 195.720001 │\n",
       "└───────────┴────────┴─────────────────────┴───────────┴───────────┴────────────┘, initialFilter=None, ohlcColumnsToUse=['close'])"
      ]
     },
     "execution_count": 5,
     "metadata": {},
     "output_type": "execute_result"
    }
   ],
   "source": [
    "indicators = {\n",
    "    \"sma\": pltalib.sma(timeperiod=200).over(\"ticker\"),\n",
    "    \"mean_B\": pl.col(\"close\").mean().over(\"ticker\"),\n",
    "    #\"bad_stuff\": 5,\n",
    "    \"A_plus_B\": pl.col(\"close\") + pl.col(\"close\"),\n",
    "}\n",
    "\n",
    "filterExpr =  pl.col(\"A_plus_B\") > 100\n",
    "trader.add_columns_and_prefilter(indicators, filterExpr)"
   ]
  },
  {
   "cell_type": "code",
   "execution_count": 6,
   "id": "b3847b82-8556-4009-8987-cb627daf4790",
   "metadata": {},
   "outputs": [
    {
     "data": {
      "text/html": [
       "<div><style>\n",
       ".dataframe > thead > tr,\n",
       ".dataframe > tbody > tr {\n",
       "  text-align: right;\n",
       "  white-space: pre-wrap;\n",
       "}\n",
       "</style>\n",
       "<small>shape: (1_033_762, 6)</small><table border=\"1\" class=\"dataframe\"><thead><tr><th>close</th><th>ticker</th><th>date</th><th>sma</th><th>mean_B</th><th>A_plus_B</th></tr><tr><td>f64</td><td>str</td><td>datetime[ns]</td><td>f64</td><td>f64</td><td>f64</td></tr></thead><tbody><tr><td>50.253445</td><td>&quot;O&quot;</td><td>2019-02-05 00:00:00</td><td>41.484557</td><td>22.008229</td><td>100.506889</td></tr><tr><td>50.151932</td><td>&quot;O&quot;</td><td>2019-02-06 00:00:00</td><td>41.562488</td><td>22.008229</td><td>100.303864</td></tr><tr><td>50.818882</td><td>&quot;O&quot;</td><td>2019-02-07 00:00:00</td><td>41.645151</td><td>22.008229</td><td>101.637764</td></tr><tr><td>50.804382</td><td>&quot;O&quot;</td><td>2019-02-08 00:00:00</td><td>41.726519</td><td>22.008229</td><td>101.608765</td></tr><tr><td>51.043633</td><td>&quot;O&quot;</td><td>2019-02-11 00:00:00</td><td>41.80863</td><td>22.008229</td><td>102.087265</td></tr><tr><td>&hellip;</td><td>&hellip;</td><td>&hellip;</td><td>&hellip;</td><td>&hellip;</td><td>&hellip;</td></tr><tr><td>94.470001</td><td>&quot;NRG&quot;</td><td>2025-04-11 00:00:00</td><td>90.291616</td><td>25.908705</td><td>188.940002</td></tr><tr><td>95.919998</td><td>&quot;NRG&quot;</td><td>2025-04-14 00:00:00</td><td>90.37925</td><td>25.908705</td><td>191.839996</td></tr><tr><td>97.110001</td><td>&quot;NRG&quot;</td><td>2025-04-15 00:00:00</td><td>90.477072</td><td>25.908705</td><td>194.220001</td></tr><tr><td>98.089996</td><td>&quot;NRG&quot;</td><td>2025-04-16 00:00:00</td><td>90.583738</td><td>25.908705</td><td>196.179993</td></tr><tr><td>97.860001</td><td>&quot;NRG&quot;</td><td>2025-04-17 00:00:00</td><td>90.689304</td><td>25.908705</td><td>195.720001</td></tr></tbody></table></div>"
      ],
      "text/plain": [
       "shape: (1_033_762, 6)\n",
       "┌───────────┬────────┬─────────────────────┬───────────┬───────────┬────────────┐\n",
       "│ close     ┆ ticker ┆ date                ┆ sma       ┆ mean_B    ┆ A_plus_B   │\n",
       "│ ---       ┆ ---    ┆ ---                 ┆ ---       ┆ ---       ┆ ---        │\n",
       "│ f64       ┆ str    ┆ datetime[ns]        ┆ f64       ┆ f64       ┆ f64        │\n",
       "╞═══════════╪════════╪═════════════════════╪═══════════╪═══════════╪════════════╡\n",
       "│ 50.253445 ┆ O      ┆ 2019-02-05 00:00:00 ┆ 41.484557 ┆ 22.008229 ┆ 100.506889 │\n",
       "│ 50.151932 ┆ O      ┆ 2019-02-06 00:00:00 ┆ 41.562488 ┆ 22.008229 ┆ 100.303864 │\n",
       "│ 50.818882 ┆ O      ┆ 2019-02-07 00:00:00 ┆ 41.645151 ┆ 22.008229 ┆ 101.637764 │\n",
       "│ 50.804382 ┆ O      ┆ 2019-02-08 00:00:00 ┆ 41.726519 ┆ 22.008229 ┆ 101.608765 │\n",
       "│ 51.043633 ┆ O      ┆ 2019-02-11 00:00:00 ┆ 41.80863  ┆ 22.008229 ┆ 102.087265 │\n",
       "│ …         ┆ …      ┆ …                   ┆ …         ┆ …         ┆ …          │\n",
       "│ 94.470001 ┆ NRG    ┆ 2025-04-11 00:00:00 ┆ 90.291616 ┆ 25.908705 ┆ 188.940002 │\n",
       "│ 95.919998 ┆ NRG    ┆ 2025-04-14 00:00:00 ┆ 90.37925  ┆ 25.908705 ┆ 191.839996 │\n",
       "│ 97.110001 ┆ NRG    ┆ 2025-04-15 00:00:00 ┆ 90.477072 ┆ 25.908705 ┆ 194.220001 │\n",
       "│ 98.089996 ┆ NRG    ┆ 2025-04-16 00:00:00 ┆ 90.583738 ┆ 25.908705 ┆ 196.179993 │\n",
       "│ 97.860001 ┆ NRG    ┆ 2025-04-17 00:00:00 ┆ 90.689304 ┆ 25.908705 ┆ 195.720001 │\n",
       "└───────────┴────────┴─────────────────────┴───────────┴───────────┴────────────┘"
      ]
     },
     "execution_count": 6,
     "metadata": {},
     "output_type": "execute_result"
    }
   ],
   "source": [
    "trader.df_ohlc"
   ]
  },
  {
   "cell_type": "code",
   "execution_count": null,
   "id": "b4e1e02b-0737-4db9-812b-adaa019b2026",
   "metadata": {},
   "outputs": [],
   "source": []
  }
 ],
 "metadata": {
  "kernelspec": {
   "display_name": "Python 3 (ipykernel)",
   "language": "python",
   "name": "python3"
  },
  "language_info": {
   "codemirror_mode": {
    "name": "ipython",
    "version": 3
   },
   "file_extension": ".py",
   "mimetype": "text/x-python",
   "name": "python",
   "nbconvert_exporter": "python",
   "pygments_lexer": "ipython3",
   "version": "3.11.2"
  }
 },
 "nbformat": 4,
 "nbformat_minor": 5
}
