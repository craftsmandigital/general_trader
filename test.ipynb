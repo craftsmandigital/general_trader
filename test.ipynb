{
 "cells": [
  {
   "cell_type": "code",
   "execution_count": 1,
   "id": "df3b115c-00c2-444a-b3d6-7bd1aa5f7e17",
   "metadata": {},
   "outputs": [],
   "source": [
    "from general_trader import GeneralTrader\n",
    "import polars as pl\n",
    "import polars_talib as pltalib\n",
    "from trading_helpers import TradingData"
   ]
  },
  {
   "cell_type": "code",
   "execution_count": 2,
   "id": "860823fd-41c3-44b3-85f2-d83bd0fd0001",
   "metadata": {},
   "outputs": [
    {
     "name": "stdout",
     "output_type": "stream",
     "text": [
      "TradingData Initialized\n",
      "shape: (4_300_704, 7)\n",
      "┌─────────────────────┬───────────┬────────────┬───────────┬───────────┬─────────┬────────┐\n",
      "│ date                ┆ close     ┆ high       ┆ low       ┆ open      ┆ volume  ┆ ticker │\n",
      "│ ---                 ┆ ---       ┆ ---        ┆ ---       ┆ ---       ┆ ---     ┆ ---    │\n",
      "│ datetime[ns]        ┆ f64       ┆ f64        ┆ f64       ┆ f64       ┆ i64     ┆ str    │\n",
      "╞═════════════════════╪═══════════╪════════════╪═══════════╪═══════════╪═════════╪════════╡\n",
      "│ 1994-10-18 00:00:00 ┆ 1.205047  ┆ 1.214462   ┆ 1.186218  ┆ 1.205047  ┆ 418166  ┆ O      │\n",
      "│ 1994-10-19 00:00:00 ┆ 1.308607  ┆ 1.318021   ┆ 1.214463  ┆ 1.214463  ┆ 249950  ┆ O      │\n",
      "│ 1994-10-20 00:00:00 ┆ 1.318019  ┆ 1.365091   ┆ 1.318019  ┆ 1.327434  ┆ 141590  ┆ O      │\n",
      "│ 1994-10-21 00:00:00 ┆ 1.299191  ┆ 1.327434   ┆ 1.289776  ┆ 1.318019  ┆ 68731   ┆ O      │\n",
      "│ 1994-10-24 00:00:00 ┆ 1.270948  ┆ 1.327435   ┆ 1.270948  ┆ 1.299192  ┆ 75749   ┆ O      │\n",
      "│ …                   ┆ …         ┆ …          ┆ …         ┆ …         ┆ …       ┆ …      │\n",
      "│ 2025-04-11 00:00:00 ┆ 94.470001 ┆ 95.480003  ┆ 91.440002 ┆ 93.349998 ┆ 1634900 ┆ NRG    │\n",
      "│ 2025-04-14 00:00:00 ┆ 95.919998 ┆ 97.610001  ┆ 95.0      ┆ 97.449997 ┆ 1981700 ┆ NRG    │\n",
      "│ 2025-04-15 00:00:00 ┆ 97.110001 ┆ 98.5       ┆ 96.0      ┆ 96.0      ┆ 1513700 ┆ NRG    │\n",
      "│ 2025-04-16 00:00:00 ┆ 98.089996 ┆ 99.099998  ┆ 95.379997 ┆ 95.489998 ┆ 2217500 ┆ NRG    │\n",
      "│ 2025-04-17 00:00:00 ┆ 97.860001 ┆ 100.669998 ┆ 97.099998 ┆ 99.040001 ┆ 1945900 ┆ NRG    │\n",
      "└─────────────────────┴───────────┴────────────┴───────────┴───────────┴─────────┴────────┘\n"
     ]
    }
   ],
   "source": [
    "traderData = TradingData(\n",
    "    \"/mnt/jonarne/dev/trading_data/\",\n",
    "    \"/SP500/\",\n",
    "    \"SP500_list.parquet\",\n",
    ")\n",
    "# download_all_tickers. This function is only needed to call once,\n",
    "# or when you decide to download new fresh ticker and sector data\n",
    "#traderData.download_all_tickers()\n",
    "\n",
    "\n",
    "# populate polars dataframe with open, close, high, low and volume data\n",
    "ochl_data = traderData.load_ticker_parquet_files()\n",
    "print(ochl_data.collect())\n"
   ]
  },
  {
   "cell_type": "code",
   "execution_count": 4,
   "id": "01ab732a-6692-4d81-b3df-9c9684b16254",
   "metadata": {},
   "outputs": [
    {
     "name": "stdout",
     "output_type": "stream",
     "text": [
      "--- Testing Valid Instantiation ---\n",
      "Successfully created GeneralTrader instance.\n",
      "DataFrame Schema: Schema([('date', Datetime(time_unit='ns', time_zone=None)), ('close', Float64), ('high', Float64), ('low', Float64), ('open', Float64), ('volume', Int64), ('ticker', String)])\n"
     ]
    },
    {
     "data": {
      "text/html": [
       "<div><style>\n",
       ".dataframe > thead > tr,\n",
       ".dataframe > tbody > tr {\n",
       "  text-align: right;\n",
       "  white-space: pre-wrap;\n",
       "}\n",
       "</style>\n",
       "<small>shape: (469_037, 7)</small><table border=\"1\" class=\"dataframe\"><thead><tr><th>date</th><th>close</th><th>high</th><th>low</th><th>open</th><th>volume</th><th>ticker</th></tr><tr><td>datetime[ns]</td><td>f64</td><td>f64</td><td>f64</td><td>f64</td><td>i64</td><td>str</td></tr></thead><tbody><tr><td>2019-05-22 00:00:00</td><td>51.031487</td><td>51.0388</td><td>50.372732</td><td>50.716745</td><td>1766990</td><td>&quot;O&quot;</td></tr><tr><td>2019-05-23 00:00:00</td><td>51.660919</td><td>51.675557</td><td>50.819178</td><td>51.009485</td><td>2458327</td><td>&quot;O&quot;</td></tr><tr><td>2019-05-24 00:00:00</td><td>51.624371</td><td>51.968383</td><td>51.536536</td><td>51.653647</td><td>1347379</td><td>&quot;O&quot;</td></tr><tr><td>2019-05-28 00:00:00</td><td>51.046116</td><td>52.129397</td><td>51.046116</td><td>51.800023</td><td>2237892</td><td>&quot;O&quot;</td></tr><tr><td>2019-05-29 00:00:00</td><td>50.358086</td><td>51.075398</td><td>50.219018</td><td>51.01684</td><td>1676381</td><td>&quot;O&quot;</td></tr><tr><td>&hellip;</td><td>&hellip;</td><td>&hellip;</td><td>&hellip;</td><td>&hellip;</td><td>&hellip;</td><td>&hellip;</td></tr><tr><td>2023-02-21 00:00:00</td><td>32.153538</td><td>32.757714</td><td>32.106334</td><td>32.106334</td><td>3539300</td><td>&quot;NRG&quot;</td></tr><tr><td>2023-02-22 00:00:00</td><td>31.294474</td><td>32.115776</td><td>31.209511</td><td>32.002493</td><td>4113600</td><td>&quot;NRG&quot;</td></tr><tr><td>2023-02-23 00:00:00</td><td>31.634319</td><td>31.889207</td><td>31.23783</td><td>31.247269</td><td>5426500</td><td>&quot;NRG&quot;</td></tr><tr><td>2023-02-24 00:00:00</td><td>31.719286</td><td>31.860891</td><td>31.133991</td><td>31.303916</td><td>3798700</td><td>&quot;NRG&quot;</td></tr><tr><td>2023-02-27 00:00:00</td><td>31.171753</td><td>32.219623</td><td>31.152872</td><td>31.983616</td><td>4286600</td><td>&quot;NRG&quot;</td></tr></tbody></table></div>"
      ],
      "text/plain": [
       "shape: (469_037, 7)\n",
       "┌─────────────────────┬───────────┬───────────┬───────────┬───────────┬─────────┬────────┐\n",
       "│ date                ┆ close     ┆ high      ┆ low       ┆ open      ┆ volume  ┆ ticker │\n",
       "│ ---                 ┆ ---       ┆ ---       ┆ ---       ┆ ---       ┆ ---     ┆ ---    │\n",
       "│ datetime[ns]        ┆ f64       ┆ f64       ┆ f64       ┆ f64       ┆ i64     ┆ str    │\n",
       "╞═════════════════════╪═══════════╪═══════════╪═══════════╪═══════════╪═════════╪════════╡\n",
       "│ 2019-05-22 00:00:00 ┆ 51.031487 ┆ 51.0388   ┆ 50.372732 ┆ 50.716745 ┆ 1766990 ┆ O      │\n",
       "│ 2019-05-23 00:00:00 ┆ 51.660919 ┆ 51.675557 ┆ 50.819178 ┆ 51.009485 ┆ 2458327 ┆ O      │\n",
       "│ 2019-05-24 00:00:00 ┆ 51.624371 ┆ 51.968383 ┆ 51.536536 ┆ 51.653647 ┆ 1347379 ┆ O      │\n",
       "│ 2019-05-28 00:00:00 ┆ 51.046116 ┆ 52.129397 ┆ 51.046116 ┆ 51.800023 ┆ 2237892 ┆ O      │\n",
       "│ 2019-05-29 00:00:00 ┆ 50.358086 ┆ 51.075398 ┆ 50.219018 ┆ 51.01684  ┆ 1676381 ┆ O      │\n",
       "│ …                   ┆ …         ┆ …         ┆ …         ┆ …         ┆ …       ┆ …      │\n",
       "│ 2023-02-21 00:00:00 ┆ 32.153538 ┆ 32.757714 ┆ 32.106334 ┆ 32.106334 ┆ 3539300 ┆ NRG    │\n",
       "│ 2023-02-22 00:00:00 ┆ 31.294474 ┆ 32.115776 ┆ 31.209511 ┆ 32.002493 ┆ 4113600 ┆ NRG    │\n",
       "│ 2023-02-23 00:00:00 ┆ 31.634319 ┆ 31.889207 ┆ 31.23783  ┆ 31.247269 ┆ 5426500 ┆ NRG    │\n",
       "│ 2023-02-24 00:00:00 ┆ 31.719286 ┆ 31.860891 ┆ 31.133991 ┆ 31.303916 ┆ 3798700 ┆ NRG    │\n",
       "│ 2023-02-27 00:00:00 ┆ 31.171753 ┆ 32.219623 ┆ 31.152872 ┆ 31.983616 ┆ 4286600 ┆ NRG    │\n",
       "└─────────────────────┴───────────┴───────────┴───────────┴───────────┴─────────┴────────┘"
      ]
     },
     "execution_count": 4,
     "metadata": {},
     "output_type": "execute_result"
    }
   ],
   "source": [
    "from datetime import datetime\n",
    "\n",
    "my_filter = (\n",
    "    pl.col(\"date\").is_between(\n",
    "    datetime(2019, 5, 22), datetime(2023, 2, 27)\n",
    "    )\n",
    "    #& (\n",
    "    #pl.col(\"ticker\").is_in([\"MSFT\", \"AAPL\", \"TSLA\"])\n",
    "    #)\n",
    ")\n",
    "\n",
    "    # Define a sample Polars expression\n",
    "\n",
    "    # --- Test Cases ---\n",
    "\n",
    "print(\"--- Testing Valid Instantiation ---\")\n",
    "try:\n",
    "    trader = GeneralTrader(ochl_data.collect(), my_filter)\n",
    "    print(\"Successfully created GeneralTrader instance.\")\n",
    "    print(\"DataFrame Schema:\", trader.df_ohlc.schema)\n",
    "except ValidationError as e:\n",
    "    print(\"Validation Error (unexpected):\", e)\n",
    "trader.df_ohlc"
   ]
  },
  {
   "cell_type": "raw",
   "id": "50ce6cbc-b126-4dcf-9126-3de6cc43ce3e",
   "metadata": {},
   "source": [
    "\n",
    "my_filter = (\n",
    "    pl.col(\"date\").is_between(\n",
    "    datetime(2019, 5, 22), datetime(2023, 2, 27)\n",
    "    )\n",
    "    #& (\n",
    "    #pl.col(\"ticker\").is_in([\"MSFT\", \"AAPL\", \"TSLA\"])\n",
    "    #)\n",
    ")\n",
    "trader.add_pre_filter(my_filter)\n",
    "trader.df_ohlc"
   ]
  },
  {
   "cell_type": "code",
   "execution_count": null,
   "id": "d9a1b40c-d9f6-412a-a899-9a94b47cfaec",
   "metadata": {},
   "outputs": [],
   "source": [
    "#trader.df_ohlc.write_csv(\"ohlc_pr_ticker_explode.csv\")"
   ]
  },
  {
   "cell_type": "raw",
   "id": "38e22b5d-0d66-4f48-b586-71e995e301c9",
   "metadata": {},
   "source": [
    "trader \\\n",
    "    .add_column(\"sma\", pltalib.sma(timeperiod=200).over(\"ticker\")) \\\n",
    "    .add_column(\"mean_B\", pl.col(\"close\").mean().over(\"ticker\")) \\\n",
    "    .add_column(\"A_plus_B\", pl.col(\"close\") + pl.col(\"close\"))\n"
   ]
  },
  {
   "cell_type": "code",
   "execution_count": 5,
   "id": "4a3f6d59-6778-4ada-9b44-fc7ca1891633",
   "metadata": {},
   "outputs": [
    {
     "data": {
      "text/plain": [
       "<general_trader.GeneralTrader at 0x7f6bc1f66f10>"
      ]
     },
     "execution_count": 5,
     "metadata": {},
     "output_type": "execute_result"
    }
   ],
   "source": [
    "trader \\\n",
    "    .add_column(\"sma\", pltalib.sma(timeperiod=200)) \\\n",
    "    .add_column(\"mean_B\", pl.col(\"close\").mean()) \\\n",
    "    .add_column(\"A_plus_B\", pl.col(\"close\") + pl.col(\"close\"))"
   ]
  },
  {
   "cell_type": "code",
   "execution_count": 6,
   "id": "c3364886-779e-48cb-bfc3-dae78eba0ba7",
   "metadata": {},
   "outputs": [
    {
     "name": "stdout",
     "output_type": "stream",
     "text": [
      "{'sma': <Expr ['col(\"close\")./home/user/dev/py…'] at 0x7F6BC1653450>, 'mean_B': <Expr ['col(\"close\").mean()'] at 0x7F6BC1698B90>, 'A_plus_B': <Expr ['[(col(\"close\")) + (col(\"close\"…'] at 0x7F6BC1683A90>}\n"
     ]
    }
   ],
   "source": [
    "\n",
    "print(trader.added_columns)"
   ]
  },
  {
   "cell_type": "code",
   "execution_count": 7,
   "id": "b3847b82-8556-4009-8987-cb627daf4790",
   "metadata": {},
   "outputs": [
    {
     "data": {
      "text/html": [
       "<div><style>\n",
       ".dataframe > thead > tr,\n",
       ".dataframe > tbody > tr {\n",
       "  text-align: right;\n",
       "  white-space: pre-wrap;\n",
       "}\n",
       "</style>\n",
       "<small>shape: (469_037, 10)</small><table border=\"1\" class=\"dataframe\"><thead><tr><th>ticker</th><th>date</th><th>close</th><th>high</th><th>low</th><th>open</th><th>volume</th><th>sma</th><th>mean_B</th><th>A_plus_B</th></tr><tr><td>str</td><td>datetime[ns]</td><td>f64</td><td>f64</td><td>f64</td><td>f64</td><td>i64</td><td>f64</td><td>f64</td><td>f64</td></tr></thead><tbody><tr><td>&quot;O&quot;</td><td>2019-05-22 00:00:00</td><td>51.031487</td><td>51.0388</td><td>50.372732</td><td>50.716745</td><td>1766990</td><td>NaN</td><td>53.638094</td><td>102.062973</td></tr><tr><td>&quot;O&quot;</td><td>2019-05-23 00:00:00</td><td>51.660919</td><td>51.675557</td><td>50.819178</td><td>51.009485</td><td>2458327</td><td>NaN</td><td>53.638094</td><td>103.321838</td></tr><tr><td>&quot;O&quot;</td><td>2019-05-24 00:00:00</td><td>51.624371</td><td>51.968383</td><td>51.536536</td><td>51.653647</td><td>1347379</td><td>NaN</td><td>53.638094</td><td>103.248741</td></tr><tr><td>&quot;O&quot;</td><td>2019-05-28 00:00:00</td><td>51.046116</td><td>52.129397</td><td>51.046116</td><td>51.800023</td><td>2237892</td><td>NaN</td><td>53.638094</td><td>102.092232</td></tr><tr><td>&quot;O&quot;</td><td>2019-05-29 00:00:00</td><td>50.358086</td><td>51.075398</td><td>50.219018</td><td>51.01684</td><td>1676381</td><td>NaN</td><td>53.638094</td><td>100.716171</td></tr><tr><td>&hellip;</td><td>&hellip;</td><td>&hellip;</td><td>&hellip;</td><td>&hellip;</td><td>&hellip;</td><td>&hellip;</td><td>&hellip;</td><td>&hellip;</td><td>&hellip;</td></tr><tr><td>&quot;NRG&quot;</td><td>2023-02-21 00:00:00</td><td>32.153538</td><td>32.757714</td><td>32.106334</td><td>32.106334</td><td>3539300</td><td>36.297714</td><td>32.985105</td><td>64.307076</td></tr><tr><td>&quot;NRG&quot;</td><td>2023-02-22 00:00:00</td><td>31.294474</td><td>32.115776</td><td>31.209511</td><td>32.002493</td><td>4113600</td><td>36.281204</td><td>32.985105</td><td>62.588947</td></tr><tr><td>&quot;NRG&quot;</td><td>2023-02-23 00:00:00</td><td>31.634319</td><td>31.889207</td><td>31.23783</td><td>31.247269</td><td>5426500</td><td>36.249466</td><td>32.985105</td><td>63.268639</td></tr><tr><td>&quot;NRG&quot;</td><td>2023-02-24 00:00:00</td><td>31.719286</td><td>31.860891</td><td>31.133991</td><td>31.303916</td><td>3798700</td><td>36.218016</td><td>32.985105</td><td>63.438572</td></tr><tr><td>&quot;NRG&quot;</td><td>2023-02-27 00:00:00</td><td>31.171753</td><td>32.219623</td><td>31.152872</td><td>31.983616</td><td>4286600</td><td>36.182635</td><td>32.985105</td><td>62.343506</td></tr></tbody></table></div>"
      ],
      "text/plain": [
       "shape: (469_037, 10)\n",
       "┌────────┬──────────────┬───────────┬───────────┬───┬─────────┬───────────┬───────────┬────────────┐\n",
       "│ ticker ┆ date         ┆ close     ┆ high      ┆ … ┆ volume  ┆ sma       ┆ mean_B    ┆ A_plus_B   │\n",
       "│ ---    ┆ ---          ┆ ---       ┆ ---       ┆   ┆ ---     ┆ ---       ┆ ---       ┆ ---        │\n",
       "│ str    ┆ datetime[ns] ┆ f64       ┆ f64       ┆   ┆ i64     ┆ f64       ┆ f64       ┆ f64        │\n",
       "╞════════╪══════════════╪═══════════╪═══════════╪═══╪═════════╪═══════════╪═══════════╪════════════╡\n",
       "│ O      ┆ 2019-05-22   ┆ 51.031487 ┆ 51.0388   ┆ … ┆ 1766990 ┆ NaN       ┆ 53.638094 ┆ 102.062973 │\n",
       "│        ┆ 00:00:00     ┆           ┆           ┆   ┆         ┆           ┆           ┆            │\n",
       "│ O      ┆ 2019-05-23   ┆ 51.660919 ┆ 51.675557 ┆ … ┆ 2458327 ┆ NaN       ┆ 53.638094 ┆ 103.321838 │\n",
       "│        ┆ 00:00:00     ┆           ┆           ┆   ┆         ┆           ┆           ┆            │\n",
       "│ O      ┆ 2019-05-24   ┆ 51.624371 ┆ 51.968383 ┆ … ┆ 1347379 ┆ NaN       ┆ 53.638094 ┆ 103.248741 │\n",
       "│        ┆ 00:00:00     ┆           ┆           ┆   ┆         ┆           ┆           ┆            │\n",
       "│ O      ┆ 2019-05-28   ┆ 51.046116 ┆ 52.129397 ┆ … ┆ 2237892 ┆ NaN       ┆ 53.638094 ┆ 102.092232 │\n",
       "│        ┆ 00:00:00     ┆           ┆           ┆   ┆         ┆           ┆           ┆            │\n",
       "│ O      ┆ 2019-05-29   ┆ 50.358086 ┆ 51.075398 ┆ … ┆ 1676381 ┆ NaN       ┆ 53.638094 ┆ 100.716171 │\n",
       "│        ┆ 00:00:00     ┆           ┆           ┆   ┆         ┆           ┆           ┆            │\n",
       "│ …      ┆ …            ┆ …         ┆ …         ┆ … ┆ …       ┆ …         ┆ …         ┆ …          │\n",
       "│ NRG    ┆ 2023-02-21   ┆ 32.153538 ┆ 32.757714 ┆ … ┆ 3539300 ┆ 36.297714 ┆ 32.985105 ┆ 64.307076  │\n",
       "│        ┆ 00:00:00     ┆           ┆           ┆   ┆         ┆           ┆           ┆            │\n",
       "│ NRG    ┆ 2023-02-22   ┆ 31.294474 ┆ 32.115776 ┆ … ┆ 4113600 ┆ 36.281204 ┆ 32.985105 ┆ 62.588947  │\n",
       "│        ┆ 00:00:00     ┆           ┆           ┆   ┆         ┆           ┆           ┆            │\n",
       "│ NRG    ┆ 2023-02-23   ┆ 31.634319 ┆ 31.889207 ┆ … ┆ 5426500 ┆ 36.249466 ┆ 32.985105 ┆ 63.268639  │\n",
       "│        ┆ 00:00:00     ┆           ┆           ┆   ┆         ┆           ┆           ┆            │\n",
       "│ NRG    ┆ 2023-02-24   ┆ 31.719286 ┆ 31.860891 ┆ … ┆ 3798700 ┆ 36.218016 ┆ 32.985105 ┆ 63.438572  │\n",
       "│        ┆ 00:00:00     ┆           ┆           ┆   ┆         ┆           ┆           ┆            │\n",
       "│ NRG    ┆ 2023-02-27   ┆ 31.171753 ┆ 32.219623 ┆ … ┆ 4286600 ┆ 36.182635 ┆ 32.985105 ┆ 62.343506  │\n",
       "│        ┆ 00:00:00     ┆           ┆           ┆   ┆         ┆           ┆           ┆            │\n",
       "└────────┴──────────────┴───────────┴───────────┴───┴─────────┴───────────┴───────────┴────────────┘"
      ]
     },
     "execution_count": 7,
     "metadata": {},
     "output_type": "execute_result"
    }
   ],
   "source": [
    "trader.apply_added_columns()\n",
    "trader.df_ohlc"
   ]
  },
  {
   "cell_type": "code",
   "execution_count": 8,
   "id": "b4e1e02b-0737-4db9-812b-adaa019b2026",
   "metadata": {},
   "outputs": [
    {
     "data": {
      "text/html": [
       "<div><style>\n",
       ".dataframe > thead > tr,\n",
       ".dataframe > tbody > tr {\n",
       "  text-align: right;\n",
       "  white-space: pre-wrap;\n",
       "}\n",
       "</style>\n",
       "<small>shape: (1_606, 10)</small><table border=\"1\" class=\"dataframe\"><thead><tr><th>date</th><th>close</th><th>high</th><th>low</th><th>open</th><th>volume</th><th>ticker</th><th>sma</th><th>mean_B</th><th>A_plus_B</th></tr><tr><td>datetime[ns]</td><td>f64</td><td>f64</td><td>f64</td><td>f64</td><td>i64</td><td>str</td><td>f64</td><td>f64</td><td>f64</td></tr></thead><tbody><tr><td>2020-03-06 00:00:00</td><td>154.651367</td><td>156.125416</td><td>149.319875</td><td>155.646827</td><td>72821100</td><td>&quot;MSFT&quot;</td><td>139.939248</td><td>221.429683</td><td>309.302734</td></tr><tr><td>2020-03-09 00:00:00</td><td>144.170242</td><td>150.994931</td><td>143.576796</td><td>144.533975</td><td>70419300</td><td>&quot;MSFT&quot;</td><td>140.05483</td><td>221.429683</td><td>288.340485</td></tr><tr><td>2020-03-10 00:00:00</td><td>154.02919</td><td>154.13448</td><td>146.046323</td><td>151.387382</td><td>65354400</td><td>&quot;MSFT&quot;</td><td>140.226771</td><td>221.429683</td><td>308.05838</td></tr><tr><td>2020-03-11 00:00:00</td><td>147.051392</td><td>150.947102</td><td>144.677578</td><td>150.401518</td><td>56371600</td><td>&quot;MSFT&quot;</td><td>140.363539</td><td>221.429683</td><td>294.102783</td></tr><tr><td>2020-03-13 00:00:00</td><td>152.028656</td><td>154.976767</td><td>134.70372</td><td>141.183822</td><td>92727400</td><td>&quot;MSFT&quot;</td><td>140.598773</td><td>221.429683</td><td>304.057312</td></tr><tr><td>&hellip;</td><td>&hellip;</td><td>&hellip;</td><td>&hellip;</td><td>&hellip;</td><td>&hellip;</td><td>&hellip;</td><td>&hellip;</td><td>&hellip;</td><td>&hellip;</td></tr><tr><td>2023-02-17 00:00:00</td><td>151.026947</td><td>151.472451</td><td>149.343923</td><td>150.828947</td><td>59144100</td><td>&quot;AAPL&quot;</td><td>145.482443</td><td>116.364988</td><td>302.053894</td></tr><tr><td>2023-02-21 00:00:00</td><td>146.997559</td><td>149.789411</td><td>146.928265</td><td>148.700387</td><td>58867200</td><td>&quot;AAPL&quot;</td><td>145.400566</td><td>116.364988</td><td>293.995117</td></tr><tr><td>2023-02-22 00:00:00</td><td>147.423264</td><td>148.452873</td><td>145.690736</td><td>147.383654</td><td>51011300</td><td>&quot;AAPL&quot;</td><td>145.366331</td><td>116.364988</td><td>294.846527</td></tr><tr><td>2023-02-23 00:00:00</td><td>147.908371</td><td>148.838988</td><td>145.769948</td><td>148.591484</td><td>48394200</td><td>&quot;AAPL&quot;</td><td>145.330876</td><td>116.364988</td><td>295.816742</td></tr><tr><td>2023-02-27 00:00:00</td><td>146.443146</td><td>147.680666</td><td>145.977837</td><td>146.235251</td><td>44998500</td><td>&quot;AAPL&quot;</td><td>145.278693</td><td>116.364988</td><td>292.886292</td></tr></tbody></table></div>"
      ],
      "text/plain": [
       "shape: (1_606, 10)\n",
       "┌────────────┬────────────┬───────────┬───────────┬───┬────────┬───────────┬───────────┬───────────┐\n",
       "│ date       ┆ close      ┆ high      ┆ low       ┆ … ┆ ticker ┆ sma       ┆ mean_B    ┆ A_plus_B  │\n",
       "│ ---        ┆ ---        ┆ ---       ┆ ---       ┆   ┆ ---    ┆ ---       ┆ ---       ┆ ---       │\n",
       "│ datetime[n ┆ f64        ┆ f64       ┆ f64       ┆   ┆ str    ┆ f64       ┆ f64       ┆ f64       │\n",
       "│ s]         ┆            ┆           ┆           ┆   ┆        ┆           ┆           ┆           │\n",
       "╞════════════╪════════════╪═══════════╪═══════════╪═══╪════════╪═══════════╪═══════════╪═══════════╡\n",
       "│ 2020-03-06 ┆ 154.651367 ┆ 156.12541 ┆ 149.31987 ┆ … ┆ MSFT   ┆ 139.93924 ┆ 221.42968 ┆ 309.30273 │\n",
       "│ 00:00:00   ┆            ┆ 6         ┆ 5         ┆   ┆        ┆ 8         ┆ 3         ┆ 4         │\n",
       "│ 2020-03-09 ┆ 144.170242 ┆ 150.99493 ┆ 143.57679 ┆ … ┆ MSFT   ┆ 140.05483 ┆ 221.42968 ┆ 288.34048 │\n",
       "│ 00:00:00   ┆            ┆ 1         ┆ 6         ┆   ┆        ┆           ┆ 3         ┆ 5         │\n",
       "│ 2020-03-10 ┆ 154.02919  ┆ 154.13448 ┆ 146.04632 ┆ … ┆ MSFT   ┆ 140.22677 ┆ 221.42968 ┆ 308.05838 │\n",
       "│ 00:00:00   ┆            ┆           ┆ 3         ┆   ┆        ┆ 1         ┆ 3         ┆           │\n",
       "│ 2020-03-11 ┆ 147.051392 ┆ 150.94710 ┆ 144.67757 ┆ … ┆ MSFT   ┆ 140.36353 ┆ 221.42968 ┆ 294.10278 │\n",
       "│ 00:00:00   ┆            ┆ 2         ┆ 8         ┆   ┆        ┆ 9         ┆ 3         ┆ 3         │\n",
       "│ 2020-03-13 ┆ 152.028656 ┆ 154.97676 ┆ 134.70372 ┆ … ┆ MSFT   ┆ 140.59877 ┆ 221.42968 ┆ 304.05731 │\n",
       "│ 00:00:00   ┆            ┆ 7         ┆           ┆   ┆        ┆ 3         ┆ 3         ┆ 2         │\n",
       "│ …          ┆ …          ┆ …         ┆ …         ┆ … ┆ …      ┆ …         ┆ …         ┆ …         │\n",
       "│ 2023-02-17 ┆ 151.026947 ┆ 151.47245 ┆ 149.34392 ┆ … ┆ AAPL   ┆ 145.48244 ┆ 116.36498 ┆ 302.05389 │\n",
       "│ 00:00:00   ┆            ┆ 1         ┆ 3         ┆   ┆        ┆ 3         ┆ 8         ┆ 4         │\n",
       "│ 2023-02-21 ┆ 146.997559 ┆ 149.78941 ┆ 146.92826 ┆ … ┆ AAPL   ┆ 145.40056 ┆ 116.36498 ┆ 293.99511 │\n",
       "│ 00:00:00   ┆            ┆ 1         ┆ 5         ┆   ┆        ┆ 6         ┆ 8         ┆ 7         │\n",
       "│ 2023-02-22 ┆ 147.423264 ┆ 148.45287 ┆ 145.69073 ┆ … ┆ AAPL   ┆ 145.36633 ┆ 116.36498 ┆ 294.84652 │\n",
       "│ 00:00:00   ┆            ┆ 3         ┆ 6         ┆   ┆        ┆ 1         ┆ 8         ┆ 7         │\n",
       "│ 2023-02-23 ┆ 147.908371 ┆ 148.83898 ┆ 145.76994 ┆ … ┆ AAPL   ┆ 145.33087 ┆ 116.36498 ┆ 295.81674 │\n",
       "│ 00:00:00   ┆            ┆ 8         ┆ 8         ┆   ┆        ┆ 6         ┆ 8         ┆ 2         │\n",
       "│ 2023-02-27 ┆ 146.443146 ┆ 147.68066 ┆ 145.97783 ┆ … ┆ AAPL   ┆ 145.27869 ┆ 116.36498 ┆ 292.88629 │\n",
       "│ 00:00:00   ┆            ┆ 6         ┆ 7         ┆   ┆        ┆ 3         ┆ 8         ┆ 2         │\n",
       "└────────────┴────────────┴───────────┴───────────┴───┴────────┴───────────┴───────────┴───────────┘"
      ]
     },
     "execution_count": 8,
     "metadata": {},
     "output_type": "execute_result"
    }
   ],
   "source": [
    "trader.df_ohlc.filter(pltalib.sma(timeperiod=200)\n",
    "\t\t\t    .over(\"ticker\") < pl.col(\"close\"))"
   ]
  },
  {
   "cell_type": "code",
   "execution_count": 9,
   "id": "3912bc02-a0b7-48e9-9949-1c78caafbfe9",
   "metadata": {},
   "outputs": [],
   "source": [
    "TIMEPERIOD = 200\n",
    "sma_expression = pltalib.sma(pl.col(\"close\"), timeperiod=TIMEPERIOD).over(\"ticker\")\n",
    "#\n",
    "actionable_day_condition = (\n",
    "    (sma_expression.shift(1) > pl.col(\"close\").shift(1).over(\"ticker\")) &\n",
    "    (sma_expression.shift(2) <= pl.col(\"close\").shift(2).over(\"ticker\"))\n",
    " )\n",
    "\n",
    "actionable_dates_df = trader.df_ohlc.filter(\n",
    "    actionable_day_condition\n",
    " ).select([\n",
    "    \"ticker\",\n",
    "    \"date\" # This is the date of Day D (the day *after* the crossover)\n",
    "    # You might also want pl.col(\"open\") of Day D for backtesting entry.\n",
    " ])"
   ]
  },
  {
   "cell_type": "code",
   "execution_count": 10,
   "id": "112293f6-1552-4938-8d22-da3b2ab0f9d7",
   "metadata": {},
   "outputs": [
    {
     "data": {
      "text/html": [
       "<div><style>\n",
       ".dataframe > thead > tr,\n",
       ".dataframe > tbody > tr {\n",
       "  text-align: right;\n",
       "  white-space: pre-wrap;\n",
       "}\n",
       "</style>\n",
       "<small>shape: (13, 2)</small><table border=\"1\" class=\"dataframe\"><thead><tr><th>ticker</th><th>date</th></tr><tr><td>str</td><td>datetime[ns]</td></tr></thead><tbody><tr><td>&quot;MSFT&quot;</td><td>2020-03-13 00:00:00</td></tr><tr><td>&quot;MSFT&quot;</td><td>2020-03-17 00:00:00</td></tr><tr><td>&quot;MSFT&quot;</td><td>2020-03-26 00:00:00</td></tr><tr><td>&quot;MSFT&quot;</td><td>2022-01-26 00:00:00</td></tr><tr><td>&quot;MSFT&quot;</td><td>2022-02-14 00:00:00</td></tr><tr><td>&hellip;</td><td>&hellip;</td></tr><tr><td>&quot;MSFT&quot;</td><td>2022-03-22 00:00:00</td></tr><tr><td>&quot;MSFT&quot;</td><td>2022-03-24 00:00:00</td></tr><tr><td>&quot;MSFT&quot;</td><td>2022-04-07 00:00:00</td></tr><tr><td>&quot;MSFT&quot;</td><td>2023-02-23 00:00:00</td></tr><tr><td>&quot;MSFT&quot;</td><td>2023-02-27 00:00:00</td></tr></tbody></table></div>"
      ],
      "text/plain": [
       "shape: (13, 2)\n",
       "┌────────┬─────────────────────┐\n",
       "│ ticker ┆ date                │\n",
       "│ ---    ┆ ---                 │\n",
       "│ str    ┆ datetime[ns]        │\n",
       "╞════════╪═════════════════════╡\n",
       "│ MSFT   ┆ 2020-03-13 00:00:00 │\n",
       "│ MSFT   ┆ 2020-03-17 00:00:00 │\n",
       "│ MSFT   ┆ 2020-03-26 00:00:00 │\n",
       "│ MSFT   ┆ 2022-01-26 00:00:00 │\n",
       "│ MSFT   ┆ 2022-02-14 00:00:00 │\n",
       "│ …      ┆ …                   │\n",
       "│ MSFT   ┆ 2022-03-22 00:00:00 │\n",
       "│ MSFT   ┆ 2022-03-24 00:00:00 │\n",
       "│ MSFT   ┆ 2022-04-07 00:00:00 │\n",
       "│ MSFT   ┆ 2023-02-23 00:00:00 │\n",
       "│ MSFT   ┆ 2023-02-27 00:00:00 │\n",
       "└────────┴─────────────────────┘"
      ]
     },
     "execution_count": 10,
     "metadata": {},
     "output_type": "execute_result"
    }
   ],
   "source": [
    "actionable_dates_df.filter(pl.col(\"ticker\") == \"MSFT\")\n",
    "# \"MSFT\"\t2023-02-27"
   ]
  },
  {
   "cell_type": "code",
   "execution_count": null,
   "id": "ddfb6d49-1bca-4a4d-b97c-7be74831f700",
   "metadata": {},
   "outputs": [],
   "source": []
  }
 ],
 "metadata": {
  "kernelspec": {
   "display_name": "Python 3 (ipykernel)",
   "language": "python",
   "name": "python3"
  },
  "language_info": {
   "codemirror_mode": {
    "name": "ipython",
    "version": 3
   },
   "file_extension": ".py",
   "mimetype": "text/x-python",
   "name": "python",
   "nbconvert_exporter": "python",
   "pygments_lexer": "ipython3",
   "version": "3.11.2"
  }
 },
 "nbformat": 4,
 "nbformat_minor": 5
}
