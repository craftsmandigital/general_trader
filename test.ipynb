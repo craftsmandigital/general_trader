{
 "cells": [
  {
   "cell_type": "code",
   "execution_count": 1,
   "id": "5ae57e8e-6d71-4e91-8fef-ac521dd08d20",
   "metadata": {},
   "outputs": [],
   "source": [
    "from general_trader import GeneralTrader\n",
    "import polars as pl\n",
    "\n"
   ]
  },
  {
   "cell_type": "code",
   "execution_count": 10,
   "id": "ae5a7a5b-d752-4eb0-82d9-ebfbb4d2ab89",
   "metadata": {},
   "outputs": [],
   "source": [
    "import polars as pl\n",
    "#from polars import DataFrame, Expr\n",
    "# Make sure ValidationError is imported here\n",
    "from pydantic import BaseModel, field_validator, ValidationError, ConfigDict\n",
    "from typing import Set, Any"
   ]
  },
  {
   "cell_type": "code",
   "execution_count": 2,
   "id": "976cde39-9118-40cf-a071-50a9309a71c4",
   "metadata": {},
   "outputs": [
    {
     "name": "stdout",
     "output_type": "stream",
     "text": [
      "--- Testing Valid Instantiation ---\n",
      "Successfully created GeneralTrader instance.\n",
      "DataFrame Schema: Schema([('ticker', String), ('date', Date), ('open', Float64), ('high', Float64), ('low', Float64), ('close', Float64), ('volume', Int64)])\n",
      "Initial Filter: None\n"
     ]
    }
   ],
   "source": [
    "\n",
    "# Create a sample valid DataFrame\n",
    "valid_data = {\n",
    "    'ticker': ['AAPL', 'AAPL', 'MSFT', 'MSFT'],\n",
    "    'date': ['2023-01-01', '2023-01-02', '2023-01-01', '2023-01-02'],\n",
    "    'open': [170.0, 171.0, 280.0, 281.0],\n",
    "    'high': [172.0, 173.0, 282.0, 283.0],\n",
    "    'low': [169.0, 170.0, 279.0, 280.0],\n",
    "    'close': [171.5, 172.5, 281.5, 282.5],\n",
    "    'volume': [100000, 110000, 80000, 85000]\n",
    "}\n",
    "df_valid = pl.DataFrame(valid_data).with_columns(\n",
    "    pl.col('date').str.strptime(pl.Date, \"%Y-%m-%d\") # Convert date string to Date type\n",
    ")\n",
    "\n",
    "# Create a sample invalid DataFrame (missing 'volume')\n",
    "invalid_data_missing_col = {\n",
    "    'ticker': ['AAPL'], 'date': ['2023-01-01'], 'open': [170.0],\n",
    "    'high': [172.0], 'low': [169.0], 'close': [171.5]\n",
    "    # 'volume' is missing\n",
    "}\n",
    "df_invalid_missing = pl.DataFrame(invalid_data_missing_col).with_columns(\n",
    "        pl.col('date').str.strptime(pl.Date, \"%Y-%m-%d\")\n",
    ")\n",
    "\n",
    "    # Create a sample invalid DataFrame (duplicate primary key)\n",
    "    # Note: Primary key check is commented out in validator by default for performance\n",
    "    # invalid_data_duplicate_pk = {\n",
    "    #     'ticker': ['AAPL', 'AAPL'], # Duplicate ticker/date\n",
    "    #     'date': ['2023-01-01', '2023-01-01'],\n",
    "    #     'open': [170.0, 171.0], 'high': [172.0, 173.0], 'low': [169.0, 170.0],\n",
    "    #     'close': [171.5, 172.5], 'volume': [100000, 110000]\n",
    "    # }\n",
    "    # df_invalid_duplicate = pl.DataFrame(invalid_data_duplicate_pk).with_columns(\n",
    "    #      pl.col('date').str.strptime(pl.Date, \"%Y-%m-%d\")\n",
    "    # )\n",
    "\n",
    "\n",
    "    # Define a sample Polars expression\n",
    "    #my_filter = (pl.col(\"close\") > 100) & (pl.col(\"volume\") > 50000)\n",
    "my_filter = None\n",
    "    # --- Test Cases ---\n",
    "\n",
    "print(\"--- Testing Valid Instantiation ---\")\n",
    "try:\n",
    "    trader = GeneralTrader(df_ohlc=df_valid, initialFilter=my_filter)\n",
    "    print(\"Successfully created GeneralTrader instance.\")\n",
    "    print(\"DataFrame Schema:\", trader.df_ohlc.schema)\n",
    "    print(\"Initial Filter:\", trader.initialFilter)\n",
    "except ValidationError as e:\n",
    "    print(\"Validation Error (unexpected):\", e)\n",
    "\n",
    "\n"
   ]
  },
  {
   "cell_type": "code",
   "execution_count": 5,
   "id": "65b4c049-591d-419b-b6d9-4fafb1cb018e",
   "metadata": {},
   "outputs": [
    {
     "data": {
      "text/html": [
       "<div><style>\n",
       ".dataframe > thead > tr,\n",
       ".dataframe > tbody > tr {\n",
       "  text-align: right;\n",
       "  white-space: pre-wrap;\n",
       "}\n",
       "</style>\n",
       "<small>shape: (4, 10)</small><table border=\"1\" class=\"dataframe\"><thead><tr><th>ticker</th><th>date</th><th>open</th><th>high</th><th>low</th><th>close</th><th>volume</th><th>sum_A</th><th>mean_B</th><th>A_plus_B</th></tr><tr><td>str</td><td>date</td><td>f64</td><td>f64</td><td>f64</td><td>f64</td><td>i64</td><td>f64</td><td>f64</td><td>f64</td></tr></thead><tbody><tr><td>&quot;AAPL&quot;</td><td>2023-01-01</td><td>170.0</td><td>172.0</td><td>169.0</td><td>171.5</td><td>100000</td><td>910.0</td><td>224.5</td><td>341.5</td></tr><tr><td>&quot;AAPL&quot;</td><td>2023-01-02</td><td>171.0</td><td>173.0</td><td>170.0</td><td>172.5</td><td>110000</td><td>910.0</td><td>224.5</td><td>343.5</td></tr><tr><td>&quot;MSFT&quot;</td><td>2023-01-01</td><td>280.0</td><td>282.0</td><td>279.0</td><td>281.5</td><td>80000</td><td>910.0</td><td>224.5</td><td>561.5</td></tr><tr><td>&quot;MSFT&quot;</td><td>2023-01-02</td><td>281.0</td><td>283.0</td><td>280.0</td><td>282.5</td><td>85000</td><td>910.0</td><td>224.5</td><td>563.5</td></tr></tbody></table></div>"
      ],
      "text/plain": [
       "shape: (4, 10)\n",
       "┌────────┬────────────┬───────┬───────┬───┬────────┬───────┬────────┬──────────┐\n",
       "│ ticker ┆ date       ┆ open  ┆ high  ┆ … ┆ volume ┆ sum_A ┆ mean_B ┆ A_plus_B │\n",
       "│ ---    ┆ ---        ┆ ---   ┆ ---   ┆   ┆ ---    ┆ ---   ┆ ---    ┆ ---      │\n",
       "│ str    ┆ date       ┆ f64   ┆ f64   ┆   ┆ i64    ┆ f64   ┆ f64    ┆ f64      │\n",
       "╞════════╪════════════╪═══════╪═══════╪═══╪════════╪═══════╪════════╪══════════╡\n",
       "│ AAPL   ┆ 2023-01-01 ┆ 170.0 ┆ 172.0 ┆ … ┆ 100000 ┆ 910.0 ┆ 224.5  ┆ 341.5    │\n",
       "│ AAPL   ┆ 2023-01-02 ┆ 171.0 ┆ 173.0 ┆ … ┆ 110000 ┆ 910.0 ┆ 224.5  ┆ 343.5    │\n",
       "│ MSFT   ┆ 2023-01-01 ┆ 280.0 ┆ 282.0 ┆ … ┆ 80000  ┆ 910.0 ┆ 224.5  ┆ 561.5    │\n",
       "│ MSFT   ┆ 2023-01-02 ┆ 281.0 ┆ 283.0 ┆ … ┆ 85000  ┆ 910.0 ┆ 224.5  ┆ 563.5    │\n",
       "└────────┴────────────┴───────┴───────┴───┴────────┴───────┴────────┴──────────┘"
      ]
     },
     "execution_count": 5,
     "metadata": {},
     "output_type": "execute_result"
    }
   ],
   "source": [
    "trader.df_ohlc"
   ]
  },
  {
   "cell_type": "code",
   "execution_count": 4,
   "id": "ad3512d4-3829-4f75-a2cd-5c06f7491b3c",
   "metadata": {},
   "outputs": [
    {
     "data": {
      "text/plain": [
       "GeneralTrader(df_ohlc=shape: (4, 10)\n",
       "┌────────┬────────────┬───────┬───────┬───┬────────┬───────┬────────┬──────────┐\n",
       "│ ticker ┆ date       ┆ open  ┆ high  ┆ … ┆ volume ┆ sum_A ┆ mean_B ┆ A_plus_B │\n",
       "│ ---    ┆ ---        ┆ ---   ┆ ---   ┆   ┆ ---    ┆ ---   ┆ ---    ┆ ---      │\n",
       "│ str    ┆ date       ┆ f64   ┆ f64   ┆   ┆ i64    ┆ f64   ┆ f64    ┆ f64      │\n",
       "╞════════╪════════════╪═══════╪═══════╪═══╪════════╪═══════╪════════╪══════════╡\n",
       "│ AAPL   ┆ 2023-01-01 ┆ 170.0 ┆ 172.0 ┆ … ┆ 100000 ┆ 910.0 ┆ 224.5  ┆ 341.5    │\n",
       "│ AAPL   ┆ 2023-01-02 ┆ 171.0 ┆ 173.0 ┆ … ┆ 110000 ┆ 910.0 ┆ 224.5  ┆ 343.5    │\n",
       "│ MSFT   ┆ 2023-01-01 ┆ 280.0 ┆ 282.0 ┆ … ┆ 80000  ┆ 910.0 ┆ 224.5  ┆ 561.5    │\n",
       "│ MSFT   ┆ 2023-01-02 ┆ 281.0 ┆ 283.0 ┆ … ┆ 85000  ┆ 910.0 ┆ 224.5  ┆ 563.5    │\n",
       "└────────┴────────────┴───────┴───────┴───┴────────┴───────┴────────┴──────────┘, initialFilter=None)"
      ]
     },
     "execution_count": 4,
     "metadata": {},
     "output_type": "execute_result"
    }
   ],
   "source": [
    "indicators = {\n",
    "    \"sum_A\": pl.col(\"high\").sum(),\n",
    "    \"mean_B\": pl.col(\"low\").mean(),\n",
    "    #\"bad_stuff\": 5,\n",
    "    \"A_plus_B\": pl.col(\"open\") + pl.col(\"close\"),\n",
    "}\n",
    "trader.add_columns(indicators)"
   ]
  },
  {
   "cell_type": "code",
   "execution_count": 22,
   "id": "1b3a31b8-b874-45b0-94d8-d2fb7affe78c",
   "metadata": {},
   "outputs": [
    {
     "data": {
      "text/html": [
       "<div><style>\n",
       ".dataframe > thead > tr,\n",
       ".dataframe > tbody > tr {\n",
       "  text-align: right;\n",
       "  white-space: pre-wrap;\n",
       "}\n",
       "</style>\n",
       "<small>shape: (4, 10)</small><table border=\"1\" class=\"dataframe\"><thead><tr><th>ticker</th><th>date</th><th>open</th><th>high</th><th>low</th><th>close</th><th>volume</th><th>sum_A</th><th>mean_B</th><th>A_plus_B</th></tr><tr><td>str</td><td>date</td><td>f64</td><td>f64</td><td>f64</td><td>f64</td><td>i64</td><td>f64</td><td>f64</td><td>f64</td></tr></thead><tbody><tr><td>&quot;AAPL&quot;</td><td>2023-01-01</td><td>170.0</td><td>172.0</td><td>169.0</td><td>171.5</td><td>100000</td><td>910.0</td><td>224.5</td><td>341.5</td></tr><tr><td>&quot;AAPL&quot;</td><td>2023-01-02</td><td>171.0</td><td>173.0</td><td>170.0</td><td>172.5</td><td>110000</td><td>910.0</td><td>224.5</td><td>343.5</td></tr><tr><td>&quot;MSFT&quot;</td><td>2023-01-01</td><td>280.0</td><td>282.0</td><td>279.0</td><td>281.5</td><td>80000</td><td>910.0</td><td>224.5</td><td>561.5</td></tr><tr><td>&quot;MSFT&quot;</td><td>2023-01-02</td><td>281.0</td><td>283.0</td><td>280.0</td><td>282.5</td><td>85000</td><td>910.0</td><td>224.5</td><td>563.5</td></tr></tbody></table></div>"
      ],
      "text/plain": [
       "shape: (4, 10)\n",
       "┌────────┬────────────┬───────┬───────┬───┬────────┬───────┬────────┬──────────┐\n",
       "│ ticker ┆ date       ┆ open  ┆ high  ┆ … ┆ volume ┆ sum_A ┆ mean_B ┆ A_plus_B │\n",
       "│ ---    ┆ ---        ┆ ---   ┆ ---   ┆   ┆ ---    ┆ ---   ┆ ---    ┆ ---      │\n",
       "│ str    ┆ date       ┆ f64   ┆ f64   ┆   ┆ i64    ┆ f64   ┆ f64    ┆ f64      │\n",
       "╞════════╪════════════╪═══════╪═══════╪═══╪════════╪═══════╪════════╪══════════╡\n",
       "│ AAPL   ┆ 2023-01-01 ┆ 170.0 ┆ 172.0 ┆ … ┆ 100000 ┆ 910.0 ┆ 224.5  ┆ 341.5    │\n",
       "│ AAPL   ┆ 2023-01-02 ┆ 171.0 ┆ 173.0 ┆ … ┆ 110000 ┆ 910.0 ┆ 224.5  ┆ 343.5    │\n",
       "│ MSFT   ┆ 2023-01-01 ┆ 280.0 ┆ 282.0 ┆ … ┆ 80000  ┆ 910.0 ┆ 224.5  ┆ 561.5    │\n",
       "│ MSFT   ┆ 2023-01-02 ┆ 281.0 ┆ 283.0 ┆ … ┆ 85000  ┆ 910.0 ┆ 224.5  ┆ 563.5    │\n",
       "└────────┴────────────┴───────┴───────┴───┴────────┴───────┴────────┴──────────┘"
      ]
     },
     "execution_count": 22,
     "metadata": {},
     "output_type": "execute_result"
    }
   ],
   "source": [
    "df_newStuff"
   ]
  },
  {
   "cell_type": "markdown",
   "id": "c9618e06-ca8e-4bd8-83aa-6e0cc81d9302",
   "metadata": {},
   "source": []
  }
 ],
 "metadata": {
  "kernelspec": {
   "display_name": "Python 3 (ipykernel)",
   "language": "python",
   "name": "python3"
  },
  "language_info": {
   "codemirror_mode": {
    "name": "ipython",
    "version": 3
   },
   "file_extension": ".py",
   "mimetype": "text/x-python",
   "name": "python",
   "nbconvert_exporter": "python",
   "pygments_lexer": "ipython3",
   "version": "3.11.2"
  }
 },
 "nbformat": 4,
 "nbformat_minor": 5
}
