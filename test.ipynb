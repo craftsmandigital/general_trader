{
 "cells": [
  {
   "cell_type": "code",
   "execution_count": 1,
   "id": "5ae57e8e-6d71-4e91-8fef-ac521dd08d20",
   "metadata": {},
   "outputs": [],
   "source": [
    "from general_trader import GeneralTrader\n",
    "import polars as pl\n",
    "import polars_talib as pltalib\n",
    "from trading_helpers import TradingData"
   ]
  },
  {
   "cell_type": "code",
   "execution_count": 2,
   "id": "860823fd-41c3-44b3-85f2-d83bd0fd0001",
   "metadata": {},
   "outputs": [
    {
     "name": "stdout",
     "output_type": "stream",
     "text": [
      "TradingData Initialized\n",
      "shape: (4_300_704, 7)\n",
      "┌─────────────────────┬───────────┬────────────┬───────────┬───────────┬─────────┬────────┐\n",
      "│ date                ┆ close     ┆ high       ┆ low       ┆ open      ┆ volume  ┆ ticker │\n",
      "│ ---                 ┆ ---       ┆ ---        ┆ ---       ┆ ---       ┆ ---     ┆ ---    │\n",
      "│ datetime[ns]        ┆ f64       ┆ f64        ┆ f64       ┆ f64       ┆ i64     ┆ str    │\n",
      "╞═════════════════════╪═══════════╪════════════╪═══════════╪═══════════╪═════════╪════════╡\n",
      "│ 1994-10-18 00:00:00 ┆ 1.205047  ┆ 1.214462   ┆ 1.186218  ┆ 1.205047  ┆ 418166  ┆ O      │\n",
      "│ 1994-10-19 00:00:00 ┆ 1.308607  ┆ 1.318021   ┆ 1.214463  ┆ 1.214463  ┆ 249950  ┆ O      │\n",
      "│ 1994-10-20 00:00:00 ┆ 1.318019  ┆ 1.365091   ┆ 1.318019  ┆ 1.327434  ┆ 141590  ┆ O      │\n",
      "│ 1994-10-21 00:00:00 ┆ 1.299191  ┆ 1.327434   ┆ 1.289776  ┆ 1.318019  ┆ 68731   ┆ O      │\n",
      "│ 1994-10-24 00:00:00 ┆ 1.270948  ┆ 1.327435   ┆ 1.270948  ┆ 1.299192  ┆ 75749   ┆ O      │\n",
      "│ …                   ┆ …         ┆ …          ┆ …         ┆ …         ┆ …       ┆ …      │\n",
      "│ 2025-04-11 00:00:00 ┆ 94.470001 ┆ 95.480003  ┆ 91.440002 ┆ 93.349998 ┆ 1634900 ┆ NRG    │\n",
      "│ 2025-04-14 00:00:00 ┆ 95.919998 ┆ 97.610001  ┆ 95.0      ┆ 97.449997 ┆ 1981700 ┆ NRG    │\n",
      "│ 2025-04-15 00:00:00 ┆ 97.110001 ┆ 98.5       ┆ 96.0      ┆ 96.0      ┆ 1513700 ┆ NRG    │\n",
      "│ 2025-04-16 00:00:00 ┆ 98.089996 ┆ 99.099998  ┆ 95.379997 ┆ 95.489998 ┆ 2217500 ┆ NRG    │\n",
      "│ 2025-04-17 00:00:00 ┆ 97.860001 ┆ 100.669998 ┆ 97.099998 ┆ 99.040001 ┆ 1945900 ┆ NRG    │\n",
      "└─────────────────────┴───────────┴────────────┴───────────┴───────────┴─────────┴────────┘\n"
     ]
    }
   ],
   "source": [
    "traderData = TradingData(\n",
    "    \"/mnt/jonarne/dev/trading_data/\",\n",
    "    \"/SP500/\",\n",
    "    \"SP500_list.parquet\",\n",
    ")\n",
    "# download_all_tickers. This function is only needed to call once,\n",
    "# or when you decide to download new fresh ticker and sector data\n",
    "#traderData.download_all_tickers()\n",
    "\n",
    "\n",
    "# populate polars dataframe with open, close, high, low and volume data\n",
    "ochl_data = traderData.load_ticker_parquet_files()\n",
    "print(ochl_data.collect())\n"
   ]
  },
  {
   "cell_type": "code",
   "execution_count": 3,
   "id": "01ab732a-6692-4d81-b3df-9c9684b16254",
   "metadata": {},
   "outputs": [
    {
     "name": "stdout",
     "output_type": "stream",
     "text": [
      "--- Testing Valid Instantiation ---\n",
      "Successfully created GeneralTrader instance.\n",
      "DataFrame Schema: Schema([('ticker', String), ('close', Float64), ('date', Datetime(time_unit='ns', time_zone=None))])\n",
      "Initial Filter: None\n"
     ]
    }
   ],
   "source": [
    "\n",
    "\n",
    "    # Define a sample Polars expression\n",
    "    #my_filter = (pl.col(\"close\") > 100) & (pl.col(\"volume\") > 50000)\n",
    "my_filter = None\n",
    "    # --- Test Cases ---\n",
    "\n",
    "print(\"--- Testing Valid Instantiation ---\")\n",
    "try:\n",
    "    trader = GeneralTrader(ohlcColumnsToUse=[\"close\"], df_ohlc=ochl_data.collect(), initialFilter=my_filter)\n",
    "    print(\"Successfully created GeneralTrader instance.\")\n",
    "    print(\"DataFrame Schema:\", trader.df_ohlc.schema)\n",
    "    print(\"Initial Filter:\", trader.initialFilter)\n",
    "except ValidationError as e:\n",
    "    print(\"Validation Error (unexpected):\", e)"
   ]
  },
  {
   "cell_type": "code",
   "execution_count": 4,
   "id": "65b4c049-591d-419b-b6d9-4fafb1cb018e",
   "metadata": {},
   "outputs": [
    {
     "data": {
      "text/html": [
       "<div><style>\n",
       ".dataframe > thead > tr,\n",
       ".dataframe > tbody > tr {\n",
       "  text-align: right;\n",
       "  white-space: pre-wrap;\n",
       "}\n",
       "</style>\n",
       "<small>shape: (4_300_704, 3)</small><table border=\"1\" class=\"dataframe\"><thead><tr><th>ticker</th><th>close</th><th>date</th></tr><tr><td>str</td><td>f64</td><td>datetime[ns]</td></tr></thead><tbody><tr><td>&quot;O&quot;</td><td>1.205047</td><td>1994-10-18 00:00:00</td></tr><tr><td>&quot;O&quot;</td><td>1.308607</td><td>1994-10-19 00:00:00</td></tr><tr><td>&quot;O&quot;</td><td>1.318019</td><td>1994-10-20 00:00:00</td></tr><tr><td>&quot;O&quot;</td><td>1.299191</td><td>1994-10-21 00:00:00</td></tr><tr><td>&quot;O&quot;</td><td>1.270948</td><td>1994-10-24 00:00:00</td></tr><tr><td>&hellip;</td><td>&hellip;</td><td>&hellip;</td></tr><tr><td>&quot;NRG&quot;</td><td>94.470001</td><td>2025-04-11 00:00:00</td></tr><tr><td>&quot;NRG&quot;</td><td>95.919998</td><td>2025-04-14 00:00:00</td></tr><tr><td>&quot;NRG&quot;</td><td>97.110001</td><td>2025-04-15 00:00:00</td></tr><tr><td>&quot;NRG&quot;</td><td>98.089996</td><td>2025-04-16 00:00:00</td></tr><tr><td>&quot;NRG&quot;</td><td>97.860001</td><td>2025-04-17 00:00:00</td></tr></tbody></table></div>"
      ],
      "text/plain": [
       "shape: (4_300_704, 3)\n",
       "┌────────┬───────────┬─────────────────────┐\n",
       "│ ticker ┆ close     ┆ date                │\n",
       "│ ---    ┆ ---       ┆ ---                 │\n",
       "│ str    ┆ f64       ┆ datetime[ns]        │\n",
       "╞════════╪═══════════╪═════════════════════╡\n",
       "│ O      ┆ 1.205047  ┆ 1994-10-18 00:00:00 │\n",
       "│ O      ┆ 1.308607  ┆ 1994-10-19 00:00:00 │\n",
       "│ O      ┆ 1.318019  ┆ 1994-10-20 00:00:00 │\n",
       "│ O      ┆ 1.299191  ┆ 1994-10-21 00:00:00 │\n",
       "│ O      ┆ 1.270948  ┆ 1994-10-24 00:00:00 │\n",
       "│ …      ┆ …         ┆ …                   │\n",
       "│ NRG    ┆ 94.470001 ┆ 2025-04-11 00:00:00 │\n",
       "│ NRG    ┆ 95.919998 ┆ 2025-04-14 00:00:00 │\n",
       "│ NRG    ┆ 97.110001 ┆ 2025-04-15 00:00:00 │\n",
       "│ NRG    ┆ 98.089996 ┆ 2025-04-16 00:00:00 │\n",
       "│ NRG    ┆ 97.860001 ┆ 2025-04-17 00:00:00 │\n",
       "└────────┴───────────┴─────────────────────┘"
      ]
     },
     "execution_count": 4,
     "metadata": {},
     "output_type": "execute_result"
    }
   ],
   "source": [
    "trader.df_ohlc"
   ]
  },
  {
   "cell_type": "code",
   "execution_count": 5,
   "id": "ad3512d4-3829-4f75-a2cd-5c06f7491b3c",
   "metadata": {},
   "outputs": [
    {
     "data": {
      "text/plain": [
       "GeneralTrader(df_ohlc=shape: (35_964, 6)\n",
       "┌────────┬────────────┬─────────────────────┬────────────┬────────────┬─────────────┐\n",
       "│ ticker ┆ close      ┆ date                ┆ sma        ┆ mean_B     ┆ A_plus_B    │\n",
       "│ ---    ┆ ---        ┆ ---                 ┆ ---        ┆ ---        ┆ ---         │\n",
       "│ str    ┆ f64        ┆ datetime[ns]        ┆ f64        ┆ f64        ┆ f64         │\n",
       "╞════════╪════════════╪═════════════════════╪════════════╪════════════╪═════════════╡\n",
       "│ MPWR   ┆ 503.812164 ┆ 2021-09-23 00:00:00 ┆ 372.915482 ┆ 151.423233 ┆ 1007.624329 │\n",
       "│ MPWR   ┆ 503.977631 ┆ 2021-09-24 00:00:00 ┆ 373.868979 ┆ 151.423233 ┆ 1007.955261 │\n",
       "│ MPWR   ┆ 504.186035 ┆ 2021-10-21 00:00:00 ┆ 386.74126  ┆ 151.423233 ┆ 1008.37207  │\n",
       "│ MPWR   ┆ 509.359344 ┆ 2021-10-25 00:00:00 ┆ 388.049812 ┆ 151.423233 ┆ 1018.718689 │\n",
       "│ MPWR   ┆ 509.856262 ┆ 2021-10-26 00:00:00 ┆ 388.696037 ┆ 151.423233 ┆ 1019.712524 │\n",
       "│ …      ┆ …          ┆ …                   ┆ …          ┆ …          ┆ …           │\n",
       "│ ERIE   ┆ 525.870056 ┆ 2024-10-10 00:00:00 ┆ 400.609192 ┆ 81.766443  ┆ 1051.740112 │\n",
       "│ ERIE   ┆ 531.064514 ┆ 2024-10-11 00:00:00 ┆ 401.642105 ┆ 81.766443  ┆ 1062.129028 │\n",
       "│ ERIE   ┆ 529.644226 ┆ 2024-10-14 00:00:00 ┆ 402.663161 ┆ 81.766443  ┆ 1059.288452 │\n",
       "│ ERIE   ┆ 522.076111 ┆ 2024-10-15 00:00:00 ┆ 403.635639 ┆ 81.766443  ┆ 1044.152222 │\n",
       "│ ERIE   ┆ 509.829865 ┆ 2024-10-16 00:00:00 ┆ 404.542768 ┆ 81.766443  ┆ 1019.659729 │\n",
       "└────────┴────────────┴─────────────────────┴────────────┴────────────┴─────────────┘, initialFilter=None, ohlcColumnsToUse=['close'])"
      ]
     },
     "execution_count": 5,
     "metadata": {},
     "output_type": "execute_result"
    }
   ],
   "source": [
    "indicators = {\n",
    "    \"sma\": pltalib.sma(timeperiod=200).over(\"ticker\"),\n",
    "    \"mean_B\": pl.col(\"close\").mean().over(\"ticker\"),\n",
    "    #\"bad_stuff\": 5,\n",
    "    \"A_plus_B\": pl.col(\"close\") + pl.col(\"close\"),\n",
    "}\n",
    "\n",
    "filterExpr =  pl.col(\"A_plus_B\") > 100\n",
    "trader.add_columns_and_prefilter(indicators, filterExpr)"
   ]
  },
  {
   "cell_type": "code",
   "execution_count": 6,
   "id": "b3847b82-8556-4009-8987-cb627daf4790",
   "metadata": {},
   "outputs": [
    {
     "data": {
      "text/html": [
       "<div><style>\n",
       ".dataframe > thead > tr,\n",
       ".dataframe > tbody > tr {\n",
       "  text-align: right;\n",
       "  white-space: pre-wrap;\n",
       "}\n",
       "</style>\n",
       "<small>shape: (35_964, 6)</small><table border=\"1\" class=\"dataframe\"><thead><tr><th>ticker</th><th>close</th><th>date</th><th>sma</th><th>mean_B</th><th>A_plus_B</th></tr><tr><td>str</td><td>f64</td><td>datetime[ns]</td><td>f64</td><td>f64</td><td>f64</td></tr></thead><tbody><tr><td>&quot;MPWR&quot;</td><td>503.812164</td><td>2021-09-23 00:00:00</td><td>372.915482</td><td>151.423233</td><td>1007.624329</td></tr><tr><td>&quot;MPWR&quot;</td><td>503.977631</td><td>2021-09-24 00:00:00</td><td>373.868979</td><td>151.423233</td><td>1007.955261</td></tr><tr><td>&quot;MPWR&quot;</td><td>504.186035</td><td>2021-10-21 00:00:00</td><td>386.74126</td><td>151.423233</td><td>1008.37207</td></tr><tr><td>&quot;MPWR&quot;</td><td>509.359344</td><td>2021-10-25 00:00:00</td><td>388.049812</td><td>151.423233</td><td>1018.718689</td></tr><tr><td>&quot;MPWR&quot;</td><td>509.856262</td><td>2021-10-26 00:00:00</td><td>388.696037</td><td>151.423233</td><td>1019.712524</td></tr><tr><td>&hellip;</td><td>&hellip;</td><td>&hellip;</td><td>&hellip;</td><td>&hellip;</td><td>&hellip;</td></tr><tr><td>&quot;ERIE&quot;</td><td>525.870056</td><td>2024-10-10 00:00:00</td><td>400.609192</td><td>81.766443</td><td>1051.740112</td></tr><tr><td>&quot;ERIE&quot;</td><td>531.064514</td><td>2024-10-11 00:00:00</td><td>401.642105</td><td>81.766443</td><td>1062.129028</td></tr><tr><td>&quot;ERIE&quot;</td><td>529.644226</td><td>2024-10-14 00:00:00</td><td>402.663161</td><td>81.766443</td><td>1059.288452</td></tr><tr><td>&quot;ERIE&quot;</td><td>522.076111</td><td>2024-10-15 00:00:00</td><td>403.635639</td><td>81.766443</td><td>1044.152222</td></tr><tr><td>&quot;ERIE&quot;</td><td>509.829865</td><td>2024-10-16 00:00:00</td><td>404.542768</td><td>81.766443</td><td>1019.659729</td></tr></tbody></table></div>"
      ],
      "text/plain": [
       "shape: (35_964, 6)\n",
       "┌────────┬────────────┬─────────────────────┬────────────┬────────────┬─────────────┐\n",
       "│ ticker ┆ close      ┆ date                ┆ sma        ┆ mean_B     ┆ A_plus_B    │\n",
       "│ ---    ┆ ---        ┆ ---                 ┆ ---        ┆ ---        ┆ ---         │\n",
       "│ str    ┆ f64        ┆ datetime[ns]        ┆ f64        ┆ f64        ┆ f64         │\n",
       "╞════════╪════════════╪═════════════════════╪════════════╪════════════╪═════════════╡\n",
       "│ MPWR   ┆ 503.812164 ┆ 2021-09-23 00:00:00 ┆ 372.915482 ┆ 151.423233 ┆ 1007.624329 │\n",
       "│ MPWR   ┆ 503.977631 ┆ 2021-09-24 00:00:00 ┆ 373.868979 ┆ 151.423233 ┆ 1007.955261 │\n",
       "│ MPWR   ┆ 504.186035 ┆ 2021-10-21 00:00:00 ┆ 386.74126  ┆ 151.423233 ┆ 1008.37207  │\n",
       "│ MPWR   ┆ 509.359344 ┆ 2021-10-25 00:00:00 ┆ 388.049812 ┆ 151.423233 ┆ 1018.718689 │\n",
       "│ MPWR   ┆ 509.856262 ┆ 2021-10-26 00:00:00 ┆ 388.696037 ┆ 151.423233 ┆ 1019.712524 │\n",
       "│ …      ┆ …          ┆ …                   ┆ …          ┆ …          ┆ …           │\n",
       "│ ERIE   ┆ 525.870056 ┆ 2024-10-10 00:00:00 ┆ 400.609192 ┆ 81.766443  ┆ 1051.740112 │\n",
       "│ ERIE   ┆ 531.064514 ┆ 2024-10-11 00:00:00 ┆ 401.642105 ┆ 81.766443  ┆ 1062.129028 │\n",
       "│ ERIE   ┆ 529.644226 ┆ 2024-10-14 00:00:00 ┆ 402.663161 ┆ 81.766443  ┆ 1059.288452 │\n",
       "│ ERIE   ┆ 522.076111 ┆ 2024-10-15 00:00:00 ┆ 403.635639 ┆ 81.766443  ┆ 1044.152222 │\n",
       "│ ERIE   ┆ 509.829865 ┆ 2024-10-16 00:00:00 ┆ 404.542768 ┆ 81.766443  ┆ 1019.659729 │\n",
       "└────────┴────────────┴─────────────────────┴────────────┴────────────┴─────────────┘"
      ]
     },
     "execution_count": 6,
     "metadata": {},
     "output_type": "execute_result"
    }
   ],
   "source": [
    "trader.df_ohlc"
   ]
  },
  {
   "cell_type": "code",
   "execution_count": null,
   "id": "b4e1e02b-0737-4db9-812b-adaa019b2026",
   "metadata": {},
   "outputs": [],
   "source": []
  }
 ],
 "metadata": {
  "kernelspec": {
   "display_name": "Python 3 (ipykernel)",
   "language": "python",
   "name": "python3"
  },
  "language_info": {
   "codemirror_mode": {
    "name": "ipython",
    "version": 3
   },
   "file_extension": ".py",
   "mimetype": "text/x-python",
   "name": "python",
   "nbconvert_exporter": "python",
   "pygments_lexer": "ipython3",
   "version": "3.11.2"
  }
 },
 "nbformat": 4,
 "nbformat_minor": 5
}
