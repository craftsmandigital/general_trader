{
 "cells": [
  {
   "cell_type": "code",
   "execution_count": 1,
   "id": "df3b115c-00c2-444a-b3d6-7bd1aa5f7e17",
   "metadata": {},
   "outputs": [],
   "source": [
    "from general_trader import GeneralTrader\n",
    "import polars as pl\n",
    "import polars_talib as pltalib\n",
    "from trading_helpers import TradingData"
   ]
  },
  {
   "cell_type": "code",
   "execution_count": 2,
   "id": "860823fd-41c3-44b3-85f2-d83bd0fd0001",
   "metadata": {},
   "outputs": [
    {
     "name": "stdout",
     "output_type": "stream",
     "text": [
      "TradingData Initialized\n",
      "shape: (4_300_704, 7)\n",
      "┌─────────────────────┬───────────┬────────────┬───────────┬───────────┬─────────┬────────┐\n",
      "│ date                ┆ close     ┆ high       ┆ low       ┆ open      ┆ volume  ┆ ticker │\n",
      "│ ---                 ┆ ---       ┆ ---        ┆ ---       ┆ ---       ┆ ---     ┆ ---    │\n",
      "│ datetime[ns]        ┆ f64       ┆ f64        ┆ f64       ┆ f64       ┆ i64     ┆ str    │\n",
      "╞═════════════════════╪═══════════╪════════════╪═══════════╪═══════════╪═════════╪════════╡\n",
      "│ 1994-10-18 00:00:00 ┆ 1.205047  ┆ 1.214462   ┆ 1.186218  ┆ 1.205047  ┆ 418166  ┆ O      │\n",
      "│ 1994-10-19 00:00:00 ┆ 1.308607  ┆ 1.318021   ┆ 1.214463  ┆ 1.214463  ┆ 249950  ┆ O      │\n",
      "│ 1994-10-20 00:00:00 ┆ 1.318019  ┆ 1.365091   ┆ 1.318019  ┆ 1.327434  ┆ 141590  ┆ O      │\n",
      "│ 1994-10-21 00:00:00 ┆ 1.299191  ┆ 1.327434   ┆ 1.289776  ┆ 1.318019  ┆ 68731   ┆ O      │\n",
      "│ 1994-10-24 00:00:00 ┆ 1.270948  ┆ 1.327435   ┆ 1.270948  ┆ 1.299192  ┆ 75749   ┆ O      │\n",
      "│ …                   ┆ …         ┆ …          ┆ …         ┆ …         ┆ …       ┆ …      │\n",
      "│ 2025-04-11 00:00:00 ┆ 94.470001 ┆ 95.480003  ┆ 91.440002 ┆ 93.349998 ┆ 1634900 ┆ NRG    │\n",
      "│ 2025-04-14 00:00:00 ┆ 95.919998 ┆ 97.610001  ┆ 95.0      ┆ 97.449997 ┆ 1981700 ┆ NRG    │\n",
      "│ 2025-04-15 00:00:00 ┆ 97.110001 ┆ 98.5       ┆ 96.0      ┆ 96.0      ┆ 1513700 ┆ NRG    │\n",
      "│ 2025-04-16 00:00:00 ┆ 98.089996 ┆ 99.099998  ┆ 95.379997 ┆ 95.489998 ┆ 2217500 ┆ NRG    │\n",
      "│ 2025-04-17 00:00:00 ┆ 97.860001 ┆ 100.669998 ┆ 97.099998 ┆ 99.040001 ┆ 1945900 ┆ NRG    │\n",
      "└─────────────────────┴───────────┴────────────┴───────────┴───────────┴─────────┴────────┘\n"
     ]
    }
   ],
   "source": [
    "traderData = TradingData(\n",
    "    \"/mnt/jonarne/dev/trading_data/\",\n",
    "    \"/SP500/\",\n",
    "    \"SP500_list.parquet\",\n",
    ")\n",
    "# download_all_tickers. This function is only needed to call once,\n",
    "# or when you decide to download new fresh ticker and sector data\n",
    "#traderData.download_all_tickers()\n",
    "\n",
    "\n",
    "# populate polars dataframe with open, close, high, low and volume data\n",
    "ochl_data = traderData.load_ticker_parquet_files()\n",
    "print(ochl_data.collect())\n"
   ]
  },
  {
   "cell_type": "code",
   "execution_count": 3,
   "id": "01ab732a-6692-4d81-b3df-9c9684b16254",
   "metadata": {},
   "outputs": [
    {
     "name": "stdout",
     "output_type": "stream",
     "text": [
      "--- Testing Valid Instantiation ---\n",
      "Successfully created GeneralTrader instance.\n",
      "DataFrame Schema: Schema([('date', Datetime(time_unit='ns', time_zone=None)), ('close', Float64), ('high', Float64), ('low', Float64), ('open', Float64), ('volume', Int64), ('ticker', String)])\n"
     ]
    },
    {
     "data": {
      "text/html": [
       "<div><style>\n",
       ".dataframe > thead > tr,\n",
       ".dataframe > tbody > tr {\n",
       "  text-align: right;\n",
       "  white-space: pre-wrap;\n",
       "}\n",
       "</style>\n",
       "<small>shape: (4_300_704, 7)</small><table border=\"1\" class=\"dataframe\"><thead><tr><th>date</th><th>close</th><th>high</th><th>low</th><th>open</th><th>volume</th><th>ticker</th></tr><tr><td>datetime[ns]</td><td>f64</td><td>f64</td><td>f64</td><td>f64</td><td>i64</td><td>str</td></tr></thead><tbody><tr><td>1994-10-18 00:00:00</td><td>1.205047</td><td>1.214462</td><td>1.186218</td><td>1.205047</td><td>418166</td><td>&quot;O&quot;</td></tr><tr><td>1994-10-19 00:00:00</td><td>1.308607</td><td>1.318021</td><td>1.214463</td><td>1.214463</td><td>249950</td><td>&quot;O&quot;</td></tr><tr><td>1994-10-20 00:00:00</td><td>1.318019</td><td>1.365091</td><td>1.318019</td><td>1.327434</td><td>141590</td><td>&quot;O&quot;</td></tr><tr><td>1994-10-21 00:00:00</td><td>1.299191</td><td>1.327434</td><td>1.289776</td><td>1.318019</td><td>68731</td><td>&quot;O&quot;</td></tr><tr><td>1994-10-24 00:00:00</td><td>1.270948</td><td>1.327435</td><td>1.270948</td><td>1.299192</td><td>75749</td><td>&quot;O&quot;</td></tr><tr><td>&hellip;</td><td>&hellip;</td><td>&hellip;</td><td>&hellip;</td><td>&hellip;</td><td>&hellip;</td><td>&hellip;</td></tr><tr><td>2025-04-11 00:00:00</td><td>94.470001</td><td>95.480003</td><td>91.440002</td><td>93.349998</td><td>1634900</td><td>&quot;NRG&quot;</td></tr><tr><td>2025-04-14 00:00:00</td><td>95.919998</td><td>97.610001</td><td>95.0</td><td>97.449997</td><td>1981700</td><td>&quot;NRG&quot;</td></tr><tr><td>2025-04-15 00:00:00</td><td>97.110001</td><td>98.5</td><td>96.0</td><td>96.0</td><td>1513700</td><td>&quot;NRG&quot;</td></tr><tr><td>2025-04-16 00:00:00</td><td>98.089996</td><td>99.099998</td><td>95.379997</td><td>95.489998</td><td>2217500</td><td>&quot;NRG&quot;</td></tr><tr><td>2025-04-17 00:00:00</td><td>97.860001</td><td>100.669998</td><td>97.099998</td><td>99.040001</td><td>1945900</td><td>&quot;NRG&quot;</td></tr></tbody></table></div>"
      ],
      "text/plain": [
       "shape: (4_300_704, 7)\n",
       "┌─────────────────────┬───────────┬────────────┬───────────┬───────────┬─────────┬────────┐\n",
       "│ date                ┆ close     ┆ high       ┆ low       ┆ open      ┆ volume  ┆ ticker │\n",
       "│ ---                 ┆ ---       ┆ ---        ┆ ---       ┆ ---       ┆ ---     ┆ ---    │\n",
       "│ datetime[ns]        ┆ f64       ┆ f64        ┆ f64       ┆ f64       ┆ i64     ┆ str    │\n",
       "╞═════════════════════╪═══════════╪════════════╪═══════════╪═══════════╪═════════╪════════╡\n",
       "│ 1994-10-18 00:00:00 ┆ 1.205047  ┆ 1.214462   ┆ 1.186218  ┆ 1.205047  ┆ 418166  ┆ O      │\n",
       "│ 1994-10-19 00:00:00 ┆ 1.308607  ┆ 1.318021   ┆ 1.214463  ┆ 1.214463  ┆ 249950  ┆ O      │\n",
       "│ 1994-10-20 00:00:00 ┆ 1.318019  ┆ 1.365091   ┆ 1.318019  ┆ 1.327434  ┆ 141590  ┆ O      │\n",
       "│ 1994-10-21 00:00:00 ┆ 1.299191  ┆ 1.327434   ┆ 1.289776  ┆ 1.318019  ┆ 68731   ┆ O      │\n",
       "│ 1994-10-24 00:00:00 ┆ 1.270948  ┆ 1.327435   ┆ 1.270948  ┆ 1.299192  ┆ 75749   ┆ O      │\n",
       "│ …                   ┆ …         ┆ …          ┆ …         ┆ …         ┆ …       ┆ …      │\n",
       "│ 2025-04-11 00:00:00 ┆ 94.470001 ┆ 95.480003  ┆ 91.440002 ┆ 93.349998 ┆ 1634900 ┆ NRG    │\n",
       "│ 2025-04-14 00:00:00 ┆ 95.919998 ┆ 97.610001  ┆ 95.0      ┆ 97.449997 ┆ 1981700 ┆ NRG    │\n",
       "│ 2025-04-15 00:00:00 ┆ 97.110001 ┆ 98.5       ┆ 96.0      ┆ 96.0      ┆ 1513700 ┆ NRG    │\n",
       "│ 2025-04-16 00:00:00 ┆ 98.089996 ┆ 99.099998  ┆ 95.379997 ┆ 95.489998 ┆ 2217500 ┆ NRG    │\n",
       "│ 2025-04-17 00:00:00 ┆ 97.860001 ┆ 100.669998 ┆ 97.099998 ┆ 99.040001 ┆ 1945900 ┆ NRG    │\n",
       "└─────────────────────┴───────────┴────────────┴───────────┴───────────┴─────────┴────────┘"
      ]
     },
     "execution_count": 3,
     "metadata": {},
     "output_type": "execute_result"
    }
   ],
   "source": [
    "from datetime import datetime\n",
    "\n",
    "    # Define a sample Polars expression\n",
    "\n",
    "    # --- Test Cases ---\n",
    "\n",
    "print(\"--- Testing Valid Instantiation ---\")\n",
    "try:\n",
    "    trader = GeneralTrader(df_ohlc=ochl_data.collect())\n",
    "    print(\"Successfully created GeneralTrader instance.\")\n",
    "    print(\"DataFrame Schema:\", trader.df_ohlc.schema)\n",
    "except ValidationError as e:\n",
    "    print(\"Validation Error (unexpected):\", e)\n",
    "trader.df_ohlc"
   ]
  },
  {
   "cell_type": "code",
   "execution_count": 4,
   "id": "65b4c049-591d-419b-b6d9-4fafb1cb018e",
   "metadata": {},
   "outputs": [
    {
     "data": {
      "text/html": [
       "<div><style>\n",
       ".dataframe > thead > tr,\n",
       ".dataframe > tbody > tr {\n",
       "  text-align: right;\n",
       "  white-space: pre-wrap;\n",
       "}\n",
       "</style>\n",
       "<small>shape: (623_426, 7)</small><table border=\"1\" class=\"dataframe\"><thead><tr><th>date</th><th>close</th><th>high</th><th>low</th><th>open</th><th>volume</th><th>ticker</th></tr><tr><td>datetime[ns]</td><td>f64</td><td>f64</td><td>f64</td><td>f64</td><td>i64</td><td>str</td></tr></thead><tbody><tr><td>2019-05-23 00:00:00</td><td>51.660919</td><td>51.675557</td><td>50.819178</td><td>51.009485</td><td>2458327</td><td>&quot;O&quot;</td></tr><tr><td>2019-05-24 00:00:00</td><td>51.624371</td><td>51.968383</td><td>51.536536</td><td>51.653647</td><td>1347379</td><td>&quot;O&quot;</td></tr><tr><td>2019-05-28 00:00:00</td><td>51.046116</td><td>52.129397</td><td>51.046116</td><td>51.800023</td><td>2237892</td><td>&quot;O&quot;</td></tr><tr><td>2019-05-29 00:00:00</td><td>50.358086</td><td>51.075398</td><td>50.219018</td><td>51.01684</td><td>1676381</td><td>&quot;O&quot;</td></tr><tr><td>2019-05-30 00:00:00</td><td>50.665524</td><td>51.163247</td><td>50.314186</td><td>50.504493</td><td>1103414</td><td>&quot;O&quot;</td></tr><tr><td>&hellip;</td><td>&hellip;</td><td>&hellip;</td><td>&hellip;</td><td>&hellip;</td><td>&hellip;</td><td>&hellip;</td></tr><tr><td>2024-05-15 00:00:00</td><td>83.292854</td><td>84.781461</td><td>81.833829</td><td>81.833829</td><td>3448100</td><td>&quot;NRG&quot;</td></tr><tr><td>2024-05-16 00:00:00</td><td>81.754959</td><td>84.357552</td><td>81.607083</td><td>83.795629</td><td>3194100</td><td>&quot;NRG&quot;</td></tr><tr><td>2024-05-17 00:00:00</td><td>81.133888</td><td>83.10555</td><td>80.847996</td><td>81.774672</td><td>2913500</td><td>&quot;NRG&quot;</td></tr><tr><td>2024-05-20 00:00:00</td><td>80.325508</td><td>82.11972</td><td>79.517127</td><td>81.56765</td><td>3271200</td><td>&quot;NRG&quot;</td></tr><tr><td>2024-05-21 00:00:00</td><td>81.853546</td><td>81.873267</td><td>80.138202</td><td>80.138202</td><td>2508600</td><td>&quot;NRG&quot;</td></tr></tbody></table></div>"
      ],
      "text/plain": [
       "shape: (623_426, 7)\n",
       "┌─────────────────────┬───────────┬───────────┬───────────┬───────────┬─────────┬────────┐\n",
       "│ date                ┆ close     ┆ high      ┆ low       ┆ open      ┆ volume  ┆ ticker │\n",
       "│ ---                 ┆ ---       ┆ ---       ┆ ---       ┆ ---       ┆ ---     ┆ ---    │\n",
       "│ datetime[ns]        ┆ f64       ┆ f64       ┆ f64       ┆ f64       ┆ i64     ┆ str    │\n",
       "╞═════════════════════╪═══════════╪═══════════╪═══════════╪═══════════╪═════════╪════════╡\n",
       "│ 2019-05-23 00:00:00 ┆ 51.660919 ┆ 51.675557 ┆ 50.819178 ┆ 51.009485 ┆ 2458327 ┆ O      │\n",
       "│ 2019-05-24 00:00:00 ┆ 51.624371 ┆ 51.968383 ┆ 51.536536 ┆ 51.653647 ┆ 1347379 ┆ O      │\n",
       "│ 2019-05-28 00:00:00 ┆ 51.046116 ┆ 52.129397 ┆ 51.046116 ┆ 51.800023 ┆ 2237892 ┆ O      │\n",
       "│ 2019-05-29 00:00:00 ┆ 50.358086 ┆ 51.075398 ┆ 50.219018 ┆ 51.01684  ┆ 1676381 ┆ O      │\n",
       "│ 2019-05-30 00:00:00 ┆ 50.665524 ┆ 51.163247 ┆ 50.314186 ┆ 50.504493 ┆ 1103414 ┆ O      │\n",
       "│ …                   ┆ …         ┆ …         ┆ …         ┆ …         ┆ …       ┆ …      │\n",
       "│ 2024-05-15 00:00:00 ┆ 83.292854 ┆ 84.781461 ┆ 81.833829 ┆ 81.833829 ┆ 3448100 ┆ NRG    │\n",
       "│ 2024-05-16 00:00:00 ┆ 81.754959 ┆ 84.357552 ┆ 81.607083 ┆ 83.795629 ┆ 3194100 ┆ NRG    │\n",
       "│ 2024-05-17 00:00:00 ┆ 81.133888 ┆ 83.10555  ┆ 80.847996 ┆ 81.774672 ┆ 2913500 ┆ NRG    │\n",
       "│ 2024-05-20 00:00:00 ┆ 80.325508 ┆ 82.11972  ┆ 79.517127 ┆ 81.56765  ┆ 3271200 ┆ NRG    │\n",
       "│ 2024-05-21 00:00:00 ┆ 81.853546 ┆ 81.873267 ┆ 80.138202 ┆ 80.138202 ┆ 2508600 ┆ NRG    │\n",
       "└─────────────────────┴───────────┴───────────┴───────────┴───────────┴─────────┴────────┘"
      ]
     },
     "execution_count": 4,
     "metadata": {},
     "output_type": "execute_result"
    }
   ],
   "source": [
    "\n",
    "my_filter = pl.col(\"date\").is_between(\n",
    "    datetime(2019, 5, 22), datetime(2024, 5, 22), closed=\"none\"\n",
    ")\n",
    "trader.add_pre_filter(my_filter)\n",
    "trader.df_ohlc"
   ]
  },
  {
   "cell_type": "code",
   "execution_count": 5,
   "id": "ca6df65e-e0b0-4b99-aba1-8af80d02a168",
   "metadata": {},
   "outputs": [
    {
     "data": {
      "text/plain": [
       "<general_trader.GeneralTrader at 0x7fe65addee10>"
      ]
     },
     "execution_count": 5,
     "metadata": {},
     "output_type": "execute_result"
    }
   ],
   "source": [
    "trader \\\n",
    "    .add_column(\"sma\", pltalib.sma(timeperiod=200).over(\"ticker\")) \\\n",
    "    .add_column(\"mean_B\", pl.col(\"close\").mean().over(\"ticker\")) \\\n",
    "    .add_column(\"A_plus_B\", pl.col(\"close\") + pl.col(\"close\"))\n"
   ]
  },
  {
   "cell_type": "code",
   "execution_count": 6,
   "id": "c3364886-779e-48cb-bfc3-dae78eba0ba7",
   "metadata": {},
   "outputs": [
    {
     "name": "stdout",
     "output_type": "stream",
     "text": [
      "{'sma': <Expr ['col(\"close\")./home/user/dev/py…'] at 0x7FE65ADBFB50>, 'mean_B': <Expr ['col(\"close\").mean().over([col(…'] at 0x7FE65AD92DD0>, 'A_plus_B': <Expr ['[(col(\"close\")) + (col(\"close\"…'] at 0x7FE65ADBFD90>}\n"
     ]
    }
   ],
   "source": [
    "\n",
    "print(trader.added_columns)"
   ]
  },
  {
   "cell_type": "code",
   "execution_count": 8,
   "id": "b3847b82-8556-4009-8987-cb627daf4790",
   "metadata": {},
   "outputs": [
    {
     "data": {
      "text/html": [
       "<div><style>\n",
       ".dataframe > thead > tr,\n",
       ".dataframe > tbody > tr {\n",
       "  text-align: right;\n",
       "  white-space: pre-wrap;\n",
       "}\n",
       "</style>\n",
       "<small>shape: (623_426, 10)</small><table border=\"1\" class=\"dataframe\"><thead><tr><th>date</th><th>close</th><th>high</th><th>low</th><th>open</th><th>volume</th><th>ticker</th><th>sma</th><th>mean_B</th><th>A_plus_B</th></tr><tr><td>datetime[ns]</td><td>f64</td><td>f64</td><td>f64</td><td>f64</td><td>i64</td><td>str</td><td>f64</td><td>f64</td><td>f64</td></tr></thead><tbody><tr><td>2019-05-23 00:00:00</td><td>51.660919</td><td>51.675557</td><td>50.819178</td><td>51.009485</td><td>2458327</td><td>&quot;O&quot;</td><td>NaN</td><td>53.190879</td><td>103.321838</td></tr><tr><td>2019-05-24 00:00:00</td><td>51.624371</td><td>51.968383</td><td>51.536536</td><td>51.653647</td><td>1347379</td><td>&quot;O&quot;</td><td>NaN</td><td>53.190879</td><td>103.248741</td></tr><tr><td>2019-05-28 00:00:00</td><td>51.046116</td><td>52.129397</td><td>51.046116</td><td>51.800023</td><td>2237892</td><td>&quot;O&quot;</td><td>NaN</td><td>53.190879</td><td>102.092232</td></tr><tr><td>2019-05-29 00:00:00</td><td>50.358086</td><td>51.075398</td><td>50.219018</td><td>51.01684</td><td>1676381</td><td>&quot;O&quot;</td><td>NaN</td><td>53.190879</td><td>100.716171</td></tr><tr><td>2019-05-30 00:00:00</td><td>50.665524</td><td>51.163247</td><td>50.314186</td><td>50.504493</td><td>1103414</td><td>&quot;O&quot;</td><td>NaN</td><td>53.190879</td><td>101.331047</td></tr><tr><td>&hellip;</td><td>&hellip;</td><td>&hellip;</td><td>&hellip;</td><td>&hellip;</td><td>&hellip;</td><td>&hellip;</td><td>&hellip;</td><td>&hellip;</td><td>&hellip;</td></tr><tr><td>2024-05-15 00:00:00</td><td>83.292854</td><td>84.781461</td><td>81.833829</td><td>81.833829</td><td>3448100</td><td>&quot;NRG&quot;</td><td>50.482437</td><td>35.900752</td><td>166.585709</td></tr><tr><td>2024-05-16 00:00:00</td><td>81.754959</td><td>84.357552</td><td>81.607083</td><td>83.795629</td><td>3194100</td><td>&quot;NRG&quot;</td><td>50.708866</td><td>35.900752</td><td>163.509918</td></tr><tr><td>2024-05-17 00:00:00</td><td>81.133888</td><td>83.10555</td><td>80.847996</td><td>81.774672</td><td>2913500</td><td>&quot;NRG&quot;</td><td>50.934359</td><td>35.900752</td><td>162.267776</td></tr><tr><td>2024-05-20 00:00:00</td><td>80.325508</td><td>82.11972</td><td>79.517127</td><td>81.56765</td><td>3271200</td><td>&quot;NRG&quot;</td><td>51.154412</td><td>35.900752</td><td>160.651016</td></tr><tr><td>2024-05-21 00:00:00</td><td>81.853546</td><td>81.873267</td><td>80.138202</td><td>80.138202</td><td>2508600</td><td>&quot;NRG&quot;</td><td>51.38278</td><td>35.900752</td><td>163.707092</td></tr></tbody></table></div>"
      ],
      "text/plain": [
       "shape: (623_426, 10)\n",
       "┌────────────┬───────────┬───────────┬───────────┬───┬────────┬───────────┬───────────┬────────────┐\n",
       "│ date       ┆ close     ┆ high      ┆ low       ┆ … ┆ ticker ┆ sma       ┆ mean_B    ┆ A_plus_B   │\n",
       "│ ---        ┆ ---       ┆ ---       ┆ ---       ┆   ┆ ---    ┆ ---       ┆ ---       ┆ ---        │\n",
       "│ datetime[n ┆ f64       ┆ f64       ┆ f64       ┆   ┆ str    ┆ f64       ┆ f64       ┆ f64        │\n",
       "│ s]         ┆           ┆           ┆           ┆   ┆        ┆           ┆           ┆            │\n",
       "╞════════════╪═══════════╪═══════════╪═══════════╪═══╪════════╪═══════════╪═══════════╪════════════╡\n",
       "│ 2019-05-23 ┆ 51.660919 ┆ 51.675557 ┆ 50.819178 ┆ … ┆ O      ┆ NaN       ┆ 53.190879 ┆ 103.321838 │\n",
       "│ 00:00:00   ┆           ┆           ┆           ┆   ┆        ┆           ┆           ┆            │\n",
       "│ 2019-05-24 ┆ 51.624371 ┆ 51.968383 ┆ 51.536536 ┆ … ┆ O      ┆ NaN       ┆ 53.190879 ┆ 103.248741 │\n",
       "│ 00:00:00   ┆           ┆           ┆           ┆   ┆        ┆           ┆           ┆            │\n",
       "│ 2019-05-28 ┆ 51.046116 ┆ 52.129397 ┆ 51.046116 ┆ … ┆ O      ┆ NaN       ┆ 53.190879 ┆ 102.092232 │\n",
       "│ 00:00:00   ┆           ┆           ┆           ┆   ┆        ┆           ┆           ┆            │\n",
       "│ 2019-05-29 ┆ 50.358086 ┆ 51.075398 ┆ 50.219018 ┆ … ┆ O      ┆ NaN       ┆ 53.190879 ┆ 100.716171 │\n",
       "│ 00:00:00   ┆           ┆           ┆           ┆   ┆        ┆           ┆           ┆            │\n",
       "│ 2019-05-30 ┆ 50.665524 ┆ 51.163247 ┆ 50.314186 ┆ … ┆ O      ┆ NaN       ┆ 53.190879 ┆ 101.331047 │\n",
       "│ 00:00:00   ┆           ┆           ┆           ┆   ┆        ┆           ┆           ┆            │\n",
       "│ …          ┆ …         ┆ …         ┆ …         ┆ … ┆ …      ┆ …         ┆ …         ┆ …          │\n",
       "│ 2024-05-15 ┆ 83.292854 ┆ 84.781461 ┆ 81.833829 ┆ … ┆ NRG    ┆ 50.482437 ┆ 35.900752 ┆ 166.585709 │\n",
       "│ 00:00:00   ┆           ┆           ┆           ┆   ┆        ┆           ┆           ┆            │\n",
       "│ 2024-05-16 ┆ 81.754959 ┆ 84.357552 ┆ 81.607083 ┆ … ┆ NRG    ┆ 50.708866 ┆ 35.900752 ┆ 163.509918 │\n",
       "│ 00:00:00   ┆           ┆           ┆           ┆   ┆        ┆           ┆           ┆            │\n",
       "│ 2024-05-17 ┆ 81.133888 ┆ 83.10555  ┆ 80.847996 ┆ … ┆ NRG    ┆ 50.934359 ┆ 35.900752 ┆ 162.267776 │\n",
       "│ 00:00:00   ┆           ┆           ┆           ┆   ┆        ┆           ┆           ┆            │\n",
       "│ 2024-05-20 ┆ 80.325508 ┆ 82.11972  ┆ 79.517127 ┆ … ┆ NRG    ┆ 51.154412 ┆ 35.900752 ┆ 160.651016 │\n",
       "│ 00:00:00   ┆           ┆           ┆           ┆   ┆        ┆           ┆           ┆            │\n",
       "│ 2024-05-21 ┆ 81.853546 ┆ 81.873267 ┆ 80.138202 ┆ … ┆ NRG    ┆ 51.38278  ┆ 35.900752 ┆ 163.707092 │\n",
       "│ 00:00:00   ┆           ┆           ┆           ┆   ┆        ┆           ┆           ┆            │\n",
       "└────────────┴───────────┴───────────┴───────────┴───┴────────┴───────────┴───────────┴────────────┘"
      ]
     },
     "execution_count": 8,
     "metadata": {},
     "output_type": "execute_result"
    }
   ],
   "source": [
    "trader.apply_added_columns()\n",
    "trader.df_ohlc"
   ]
  },
  {
   "cell_type": "code",
   "execution_count": null,
   "id": "b4e1e02b-0737-4db9-812b-adaa019b2026",
   "metadata": {},
   "outputs": [],
   "source": []
  },
  {
   "cell_type": "code",
   "execution_count": null,
   "id": "3912bc02-a0b7-48e9-9949-1c78caafbfe9",
   "metadata": {},
   "outputs": [],
   "source": []
  }
 ],
 "metadata": {
  "kernelspec": {
   "display_name": "Python 3 (ipykernel)",
   "language": "python",
   "name": "python3"
  },
  "language_info": {
   "codemirror_mode": {
    "name": "ipython",
    "version": 3
   },
   "file_extension": ".py",
   "mimetype": "text/x-python",
   "name": "python",
   "nbconvert_exporter": "python",
   "pygments_lexer": "ipython3",
   "version": "3.11.2"
  }
 },
 "nbformat": 4,
 "nbformat_minor": 5
}
