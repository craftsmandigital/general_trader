{
 "cells": [
  {
   "cell_type": "code",
   "execution_count": 1,
   "id": "5ae57e8e-6d71-4e91-8fef-ac521dd08d20",
   "metadata": {},
   "outputs": [],
   "source": [
    "from general_trader import GeneralTrader\n",
    "import polars as pl\n",
    "import polars_talib as pltalib\n",
    "from trading_helpers import TradingData"
   ]
  },
  {
   "cell_type": "code",
   "execution_count": 3,
   "id": "860823fd-41c3-44b3-85f2-d83bd0fd0001",
   "metadata": {},
   "outputs": [
    {
     "name": "stdout",
     "output_type": "stream",
     "text": [
      "TradingData Initialized\n",
      "shape: (4_300_704, 7)\n",
      "┌─────────────────────┬───────────┬────────────┬───────────┬───────────┬─────────┬────────┐\n",
      "│ date                ┆ close     ┆ high       ┆ low       ┆ open      ┆ volume  ┆ ticker │\n",
      "│ ---                 ┆ ---       ┆ ---        ┆ ---       ┆ ---       ┆ ---     ┆ ---    │\n",
      "│ datetime[ns]        ┆ f64       ┆ f64        ┆ f64       ┆ f64       ┆ i64     ┆ str    │\n",
      "╞═════════════════════╪═══════════╪════════════╪═══════════╪═══════════╪═════════╪════════╡\n",
      "│ 1994-10-18 00:00:00 ┆ 1.205047  ┆ 1.214462   ┆ 1.186218  ┆ 1.205047  ┆ 418166  ┆ O      │\n",
      "│ 1994-10-19 00:00:00 ┆ 1.308607  ┆ 1.318021   ┆ 1.214463  ┆ 1.214463  ┆ 249950  ┆ O      │\n",
      "│ 1994-10-20 00:00:00 ┆ 1.318019  ┆ 1.365091   ┆ 1.318019  ┆ 1.327434  ┆ 141590  ┆ O      │\n",
      "│ 1994-10-21 00:00:00 ┆ 1.299191  ┆ 1.327434   ┆ 1.289776  ┆ 1.318019  ┆ 68731   ┆ O      │\n",
      "│ 1994-10-24 00:00:00 ┆ 1.270948  ┆ 1.327435   ┆ 1.270948  ┆ 1.299192  ┆ 75749   ┆ O      │\n",
      "│ …                   ┆ …         ┆ …          ┆ …         ┆ …         ┆ …       ┆ …      │\n",
      "│ 2025-04-11 00:00:00 ┆ 94.470001 ┆ 95.480003  ┆ 91.440002 ┆ 93.349998 ┆ 1634900 ┆ NRG    │\n",
      "│ 2025-04-14 00:00:00 ┆ 95.919998 ┆ 97.610001  ┆ 95.0      ┆ 97.449997 ┆ 1981700 ┆ NRG    │\n",
      "│ 2025-04-15 00:00:00 ┆ 97.110001 ┆ 98.5       ┆ 96.0      ┆ 96.0      ┆ 1513700 ┆ NRG    │\n",
      "│ 2025-04-16 00:00:00 ┆ 98.089996 ┆ 99.099998  ┆ 95.379997 ┆ 95.489998 ┆ 2217500 ┆ NRG    │\n",
      "│ 2025-04-17 00:00:00 ┆ 97.860001 ┆ 100.669998 ┆ 97.099998 ┆ 99.040001 ┆ 1945900 ┆ NRG    │\n",
      "└─────────────────────┴───────────┴────────────┴───────────┴───────────┴─────────┴────────┘\n"
     ]
    }
   ],
   "source": [
    "traderData = TradingData(\n",
    "    \"/mnt/jonarne/dev/trading_data/\",\n",
    "    \"/SP500/\",\n",
    "    \"SP500_list.parquet\",\n",
    ")\n",
    "# download_all_tickers. This function is only needed to call once,\n",
    "# or when you decide to download new fresh ticker and sector data\n",
    "#traderData.download_all_tickers()\n",
    "\n",
    "\n",
    "# populate polars dataframe with open, close, high, low and volume data\n",
    "ochl_data = traderData.load_ticker_parquet_files()\n",
    "print(ochl_data.collect())\n"
   ]
  },
  {
   "cell_type": "code",
   "execution_count": 5,
   "id": "01ab732a-6692-4d81-b3df-9c9684b16254",
   "metadata": {},
   "outputs": [
    {
     "name": "stdout",
     "output_type": "stream",
     "text": [
      "--- Testing Valid Instantiation ---\n",
      "Successfully created GeneralTrader instance.\n",
      "DataFrame Schema: Schema([('ticker', String), ('date', Datetime(time_unit='ns', time_zone=None)), ('close', Float64)])\n",
      "Initial Filter: None\n"
     ]
    }
   ],
   "source": [
    "\n",
    "\n",
    "    # Define a sample Polars expression\n",
    "    #my_filter = (pl.col(\"close\") > 100) & (pl.col(\"volume\") > 50000)\n",
    "my_filter = None\n",
    "    # --- Test Cases ---\n",
    "\n",
    "print(\"--- Testing Valid Instantiation ---\")\n",
    "try:\n",
    "    trader = GeneralTrader(ohlcColumnsToUse=[\"close\"], df_ohlc=ochl_data.collect(), initialFilter=my_filter)\n",
    "    print(\"Successfully created GeneralTrader instance.\")\n",
    "    print(\"DataFrame Schema:\", trader.df_ohlc.schema)\n",
    "    print(\"Initial Filter:\", trader.initialFilter)\n",
    "except ValidationError as e:\n",
    "    print(\"Validation Error (unexpected):\", e)"
   ]
  },
  {
   "cell_type": "code",
   "execution_count": 6,
   "id": "65b4c049-591d-419b-b6d9-4fafb1cb018e",
   "metadata": {},
   "outputs": [
    {
     "data": {
      "text/html": [
       "<div><style>\n",
       ".dataframe > thead > tr,\n",
       ".dataframe > tbody > tr {\n",
       "  text-align: right;\n",
       "  white-space: pre-wrap;\n",
       "}\n",
       "</style>\n",
       "<small>shape: (4_300_704, 3)</small><table border=\"1\" class=\"dataframe\"><thead><tr><th>ticker</th><th>date</th><th>close</th></tr><tr><td>str</td><td>datetime[ns]</td><td>f64</td></tr></thead><tbody><tr><td>&quot;O&quot;</td><td>1994-10-18 00:00:00</td><td>1.205047</td></tr><tr><td>&quot;O&quot;</td><td>1994-10-19 00:00:00</td><td>1.308607</td></tr><tr><td>&quot;O&quot;</td><td>1994-10-20 00:00:00</td><td>1.318019</td></tr><tr><td>&quot;O&quot;</td><td>1994-10-21 00:00:00</td><td>1.299191</td></tr><tr><td>&quot;O&quot;</td><td>1994-10-24 00:00:00</td><td>1.270948</td></tr><tr><td>&hellip;</td><td>&hellip;</td><td>&hellip;</td></tr><tr><td>&quot;NRG&quot;</td><td>2025-04-11 00:00:00</td><td>94.470001</td></tr><tr><td>&quot;NRG&quot;</td><td>2025-04-14 00:00:00</td><td>95.919998</td></tr><tr><td>&quot;NRG&quot;</td><td>2025-04-15 00:00:00</td><td>97.110001</td></tr><tr><td>&quot;NRG&quot;</td><td>2025-04-16 00:00:00</td><td>98.089996</td></tr><tr><td>&quot;NRG&quot;</td><td>2025-04-17 00:00:00</td><td>97.860001</td></tr></tbody></table></div>"
      ],
      "text/plain": [
       "shape: (4_300_704, 3)\n",
       "┌────────┬─────────────────────┬───────────┐\n",
       "│ ticker ┆ date                ┆ close     │\n",
       "│ ---    ┆ ---                 ┆ ---       │\n",
       "│ str    ┆ datetime[ns]        ┆ f64       │\n",
       "╞════════╪═════════════════════╪═══════════╡\n",
       "│ O      ┆ 1994-10-18 00:00:00 ┆ 1.205047  │\n",
       "│ O      ┆ 1994-10-19 00:00:00 ┆ 1.308607  │\n",
       "│ O      ┆ 1994-10-20 00:00:00 ┆ 1.318019  │\n",
       "│ O      ┆ 1994-10-21 00:00:00 ┆ 1.299191  │\n",
       "│ O      ┆ 1994-10-24 00:00:00 ┆ 1.270948  │\n",
       "│ …      ┆ …                   ┆ …         │\n",
       "│ NRG    ┆ 2025-04-11 00:00:00 ┆ 94.470001 │\n",
       "│ NRG    ┆ 2025-04-14 00:00:00 ┆ 95.919998 │\n",
       "│ NRG    ┆ 2025-04-15 00:00:00 ┆ 97.110001 │\n",
       "│ NRG    ┆ 2025-04-16 00:00:00 ┆ 98.089996 │\n",
       "│ NRG    ┆ 2025-04-17 00:00:00 ┆ 97.860001 │\n",
       "└────────┴─────────────────────┴───────────┘"
      ]
     },
     "execution_count": 6,
     "metadata": {},
     "output_type": "execute_result"
    }
   ],
   "source": [
    "trader.df_ohlc"
   ]
  },
  {
   "cell_type": "code",
   "execution_count": 8,
   "id": "ad3512d4-3829-4f75-a2cd-5c06f7491b3c",
   "metadata": {},
   "outputs": [
    {
     "data": {
      "text/plain": [
       "GeneralTrader(df_ohlc=shape: (4_300_704, 6)\n",
       "┌────────┬─────────────────────┬───────────┬───────────┬───────────┬────────────┐\n",
       "│ ticker ┆ date                ┆ close     ┆ sma       ┆ mean_B    ┆ A_plus_B   │\n",
       "│ ---    ┆ ---                 ┆ ---       ┆ ---       ┆ ---       ┆ ---        │\n",
       "│ str    ┆ datetime[ns]        ┆ f64       ┆ f64       ┆ f64       ┆ f64        │\n",
       "╞════════╪═════════════════════╪═══════════╪═══════════╪═══════════╪════════════╡\n",
       "│ O      ┆ 1994-10-18 00:00:00 ┆ 1.205047  ┆ NaN       ┆ 22.008229 ┆ 2.410094   │\n",
       "│ O      ┆ 1994-10-19 00:00:00 ┆ 1.308607  ┆ NaN       ┆ 22.008229 ┆ 2.617214   │\n",
       "│ O      ┆ 1994-10-20 00:00:00 ┆ 1.318019  ┆ NaN       ┆ 22.008229 ┆ 2.636039   │\n",
       "│ O      ┆ 1994-10-21 00:00:00 ┆ 1.299191  ┆ NaN       ┆ 22.008229 ┆ 2.598381   │\n",
       "│ O      ┆ 1994-10-24 00:00:00 ┆ 1.270948  ┆ NaN       ┆ 22.008229 ┆ 2.541897   │\n",
       "│ …      ┆ …                   ┆ …         ┆ …         ┆ …         ┆ …          │\n",
       "│ NRG    ┆ 2025-04-11 00:00:00 ┆ 94.470001 ┆ 90.291616 ┆ 25.908705 ┆ 188.940002 │\n",
       "│ NRG    ┆ 2025-04-14 00:00:00 ┆ 95.919998 ┆ 90.37925  ┆ 25.908705 ┆ 191.839996 │\n",
       "│ NRG    ┆ 2025-04-15 00:00:00 ┆ 97.110001 ┆ 90.477072 ┆ 25.908705 ┆ 194.220001 │\n",
       "│ NRG    ┆ 2025-04-16 00:00:00 ┆ 98.089996 ┆ 90.583738 ┆ 25.908705 ┆ 196.179993 │\n",
       "│ NRG    ┆ 2025-04-17 00:00:00 ┆ 97.860001 ┆ 90.689304 ┆ 25.908705 ┆ 195.720001 │\n",
       "└────────┴─────────────────────┴───────────┴───────────┴───────────┴────────────┘, initialFilter=None, ohlcColumnsToUse=['close'])"
      ]
     },
     "execution_count": 8,
     "metadata": {},
     "output_type": "execute_result"
    }
   ],
   "source": [
    "indicators = {\n",
    "    \"sma\": pltalib.sma(timeperiod=200).over(\"ticker\"),\n",
    "    \"mean_B\": pl.col(\"close\").mean().over(\"ticker\"),\n",
    "    #\"bad_stuff\": 5,\n",
    "    \"A_plus_B\": pl.col(\"close\") + pl.col(\"close\"),\n",
    "}\n",
    "trader.add_columns(indicators)"
   ]
  },
  {
   "cell_type": "markdown",
   "id": "c9618e06-ca8e-4bd8-83aa-6e0cc81d9302",
   "metadata": {},
   "source": []
  }
 ],
 "metadata": {
  "kernelspec": {
   "display_name": "Python 3 (ipykernel)",
   "language": "python",
   "name": "python3"
  },
  "language_info": {
   "codemirror_mode": {
    "name": "ipython",
    "version": 3
   },
   "file_extension": ".py",
   "mimetype": "text/x-python",
   "name": "python",
   "nbconvert_exporter": "python",
   "pygments_lexer": "ipython3",
   "version": "3.11.2"
  }
 },
 "nbformat": 4,
 "nbformat_minor": 5
}
