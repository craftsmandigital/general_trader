{
 "cells": [
  {
   "cell_type": "code",
   "execution_count": 1,
   "id": "5ae57e8e-6d71-4e91-8fef-ac521dd08d20",
   "metadata": {},
   "outputs": [],
   "source": [
    "from general_trader import GeneralTrader\n",
    "import polars as pl\n",
    "\n"
   ]
  },
  {
   "cell_type": "code",
   "execution_count": 10,
   "id": "ae5a7a5b-d752-4eb0-82d9-ebfbb4d2ab89",
   "metadata": {},
   "outputs": [],
   "source": [
    "import polars as pl\n",
    "#from polars import DataFrame, Expr\n",
    "# Make sure ValidationError is imported here\n",
    "from pydantic import BaseModel, field_validator, ValidationError, ConfigDict\n",
    "from typing import Set, Any"
   ]
  },
  {
   "cell_type": "code",
   "execution_count": 4,
   "id": "976cde39-9118-40cf-a071-50a9309a71c4",
   "metadata": {},
   "outputs": [
    {
     "name": "stdout",
     "output_type": "stream",
     "text": [
      "--- Testing Valid Instantiation ---\n"
     ]
    },
    {
     "ename": "NameError",
     "evalue": "name 'ValidationError' is not defined",
     "output_type": "error",
     "traceback": [
      "\u001b[31m---------------------------------------------------------------------------\u001b[39m",
      "\u001b[31mValidationError\u001b[39m                           Traceback (most recent call last)",
      "\u001b[36mCell\u001b[39m\u001b[36m \u001b[39m\u001b[32mIn[4]\u001b[39m\u001b[32m, line 46\u001b[39m, in \u001b[36mugly_bugly\u001b[39m\u001b[34m()\u001b[39m\n\u001b[32m     45\u001b[39m \u001b[38;5;28;01mtry\u001b[39;00m:\n\u001b[32m---> \u001b[39m\u001b[32m46\u001b[39m     trader = \u001b[43mGeneralTrader\u001b[49m\u001b[43m(\u001b[49m\u001b[43mdf_ohlc\u001b[49m\u001b[43m=\u001b[49m\u001b[43mdf_valid\u001b[49m\u001b[43m,\u001b[49m\u001b[43m \u001b[49m\u001b[43minitialFilter\u001b[49m\u001b[43m=\u001b[49m\u001b[43mmy_filter\u001b[49m\u001b[43m)\u001b[49m\n\u001b[32m     47\u001b[39m     \u001b[38;5;28mprint\u001b[39m(\u001b[33m\"\u001b[39m\u001b[33mSuccessfully created GeneralTrader instance.\u001b[39m\u001b[33m\"\u001b[39m)\n",
      "\u001b[36mFile \u001b[39m\u001b[32m~/dev/python/general_trader/.venv/lib/python3.11/site-packages/pydantic/main.py:253\u001b[39m, in \u001b[36mBaseModel.__init__\u001b[39m\u001b[34m(self, **data)\u001b[39m\n\u001b[32m    252\u001b[39m __tracebackhide__ = \u001b[38;5;28;01mTrue\u001b[39;00m\n\u001b[32m--> \u001b[39m\u001b[32m253\u001b[39m validated_self = \u001b[38;5;28;43mself\u001b[39;49m\u001b[43m.\u001b[49m\u001b[43m__pydantic_validator__\u001b[49m\u001b[43m.\u001b[49m\u001b[43mvalidate_python\u001b[49m\u001b[43m(\u001b[49m\u001b[43mdata\u001b[49m\u001b[43m,\u001b[49m\u001b[43m \u001b[49m\u001b[43mself_instance\u001b[49m\u001b[43m=\u001b[49m\u001b[38;5;28;43mself\u001b[39;49m\u001b[43m)\u001b[49m\n\u001b[32m    254\u001b[39m \u001b[38;5;28;01mif\u001b[39;00m \u001b[38;5;28mself\u001b[39m \u001b[38;5;129;01mis\u001b[39;00m \u001b[38;5;129;01mnot\u001b[39;00m validated_self:\n",
      "\u001b[31mValidationError\u001b[39m: 1 validation error for GeneralTrader\ninitialFilter\n  Input should be an instance of Expr [type=is_instance_of, input_value='(pl.col(\"close\") > 100) ....col(\"volume\") > 50000)', input_type=str]\n    For further information visit https://errors.pydantic.dev/2.11/v/is_instance_of",
      "\nDuring handling of the above exception, another exception occurred:\n",
      "\u001b[31mNameError\u001b[39m                                 Traceback (most recent call last)",
      "\u001b[36mCell\u001b[39m\u001b[36m \u001b[39m\u001b[32mIn[4]\u001b[39m\u001b[32m, line 89\u001b[39m\n\u001b[32m     86\u001b[39m     filtered_df = trader.df_ohlc.filter(trader.initialFilter)\n\u001b[32m     87\u001b[39m     \u001b[38;5;28mprint\u001b[39m(filtered_df)\n\u001b[32m---> \u001b[39m\u001b[32m89\u001b[39m \u001b[43mugly_bugly\u001b[49m\u001b[43m(\u001b[49m\u001b[43m)\u001b[49m\n",
      "\u001b[36mCell\u001b[39m\u001b[36m \u001b[39m\u001b[32mIn[4]\u001b[39m\u001b[32m, line 50\u001b[39m, in \u001b[36mugly_bugly\u001b[39m\u001b[34m()\u001b[39m\n\u001b[32m     48\u001b[39m     \u001b[38;5;28mprint\u001b[39m(\u001b[33m\"\u001b[39m\u001b[33mDataFrame Schema:\u001b[39m\u001b[33m\"\u001b[39m, trader.df_ohlc.schema)\n\u001b[32m     49\u001b[39m     \u001b[38;5;28mprint\u001b[39m(\u001b[33m\"\u001b[39m\u001b[33mInitial Filter:\u001b[39m\u001b[33m\"\u001b[39m, trader.initialFilter)\n\u001b[32m---> \u001b[39m\u001b[32m50\u001b[39m \u001b[38;5;28;01mexcept\u001b[39;00m \u001b[43mValidationError\u001b[49m \u001b[38;5;28;01mas\u001b[39;00m e:\n\u001b[32m     51\u001b[39m     \u001b[38;5;28mprint\u001b[39m(\u001b[33m\"\u001b[39m\u001b[33mValidation Error (unexpected):\u001b[39m\u001b[33m\"\u001b[39m, e)\n\u001b[32m     54\u001b[39m \u001b[38;5;28mprint\u001b[39m(\u001b[33m\"\u001b[39m\u001b[38;5;130;01m\\n\u001b[39;00m\u001b[33m--- Testing Invalid DataFrame (Missing Column) ---\u001b[39m\u001b[33m\"\u001b[39m)\n",
      "\u001b[31mNameError\u001b[39m: name 'ValidationError' is not defined"
     ]
    }
   ],
   "source": [
    "def ugly_bugly():\n",
    "    # Create a sample valid DataFrame\n",
    "    valid_data = {\n",
    "        'ticker': ['AAPL', 'AAPL', 'MSFT', 'MSFT'],\n",
    "        'date': ['2023-01-01', '2023-01-02', '2023-01-01', '2023-01-02'],\n",
    "        'open': [170.0, 171.0, 280.0, 281.0],\n",
    "        'high': [172.0, 173.0, 282.0, 283.0],\n",
    "        'low': [169.0, 170.0, 279.0, 280.0],\n",
    "        'close': [171.5, 172.5, 281.5, 282.5],\n",
    "        'volume': [100000, 110000, 80000, 85000]\n",
    "    }\n",
    "    df_valid = pl.DataFrame(valid_data).with_columns(\n",
    "        pl.col('date').str.strptime(pl.Date, \"%Y-%m-%d\") # Convert date string to Date type\n",
    "    )\n",
    "\n",
    "    # Create a sample invalid DataFrame (missing 'volume')\n",
    "    invalid_data_missing_col = {\n",
    "        'ticker': ['AAPL'], 'date': ['2023-01-01'], 'open': [170.0],\n",
    "        'high': [172.0], 'low': [169.0], 'close': [171.5]\n",
    "        # 'volume' is missing\n",
    "    }\n",
    "    df_invalid_missing = pl.DataFrame(invalid_data_missing_col).with_columns(\n",
    "         pl.col('date').str.strptime(pl.Date, \"%Y-%m-%d\")\n",
    "    )\n",
    "\n",
    "    # Create a sample invalid DataFrame (duplicate primary key)\n",
    "    # Note: Primary key check is commented out in validator by default for performance\n",
    "    # invalid_data_duplicate_pk = {\n",
    "    #     'ticker': ['AAPL', 'AAPL'], # Duplicate ticker/date\n",
    "    #     'date': ['2023-01-01', '2023-01-01'],\n",
    "    #     'open': [170.0, 171.0], 'high': [172.0, 173.0], 'low': [169.0, 170.0],\n",
    "    #     'close': [171.5, 172.5], 'volume': [100000, 110000]\n",
    "    # }\n",
    "    # df_invalid_duplicate = pl.DataFrame(invalid_data_duplicate_pk).with_columns(\n",
    "    #      pl.col('date').str.strptime(pl.Date, \"%Y-%m-%d\")\n",
    "    # )\n",
    "\n",
    "\n",
    "    # Define a sample Polars expression\n",
    "    #my_filter = (pl.col(\"close\") > 100) & (pl.col(\"volume\") > 50000)\n",
    "    my_filter = \"gone\"\n",
    "    # --- Test Cases ---\n",
    "\n",
    "    print(\"--- Testing Valid Instantiation ---\")\n",
    "    try:\n",
    "        trader = GeneralTrader(df_ohlc=df_valid, initialFilter=my_filter)\n",
    "        print(\"Successfully created GeneralTrader instance.\")\n",
    "        print(\"DataFrame Schema:\", trader.df_ohlc.schema)\n",
    "        print(\"Initial Filter:\", trader.initialFilter)\n",
    "    except ValidationError as e:\n",
    "        print(\"Validation Error (unexpected):\", e)\n",
    "\n",
    "\n",
    "    print(\"\\n--- Testing Invalid DataFrame (Missing Column) ---\")\n",
    "    try:\n",
    "        trader_invalid = GeneralTrader(\n",
    "            df_ohlc=df_invalid_missing,\n",
    "            initialFilter=my_filter\n",
    "        )\n",
    "    except ValidationError as e:\n",
    "        print(\"Validation Error (expected):\")\n",
    "        print(e) # Pydantic provides detailed error messages\n",
    "\n",
    "    print(\"\\n--- Testing Invalid Type for DataFrame ---\")\n",
    "    try:\n",
    "        trader_invalid_type = GeneralTrader(\n",
    "            df_ohlc={\"not\": \"a dataframe\"}, # Pass a dict instead of DataFrame\n",
    "            initialFilter=my_filter\n",
    "        )\n",
    "    except ValidationError as e:\n",
    "        print(\"Validation Error (expected):\")\n",
    "        print(e)\n",
    "\n",
    "    print(\"\\n--- Testing Invalid Type for Filter ---\")\n",
    "    try:\n",
    "        trader_invalid_filter = GeneralTrader(\n",
    "            df_ohlc=df_valid,\n",
    "            initialFilter=\"close > 100\" # Pass a string instead of Expr\n",
    "        )\n",
    "    except ValidationError as e:\n",
    "        print(\"Validation Error (expected):\")\n",
    "        print(e)\n",
    "\n",
    "    # Example of using the filter (outside the class definition)\n",
    "    print(\"\\n--- Applying Filter Example ---\")\n",
    "    filtered_df = trader.df_ohlc.filter(trader.initialFilter)\n",
    "    print(filtered_df)\n",
    "\n",
    "ugly_bugly()"
   ]
  },
  {
   "cell_type": "code",
   "execution_count": null,
   "id": "65b4c049-591d-419b-b6d9-4fafb1cb018e",
   "metadata": {},
   "outputs": [],
   "source": []
  }
 ],
 "metadata": {
  "kernelspec": {
   "display_name": "Python 3 (ipykernel)",
   "language": "python",
   "name": "python3"
  },
  "language_info": {
   "codemirror_mode": {
    "name": "ipython",
    "version": 3
   },
   "file_extension": ".py",
   "mimetype": "text/x-python",
   "name": "python",
   "nbconvert_exporter": "python",
   "pygments_lexer": "ipython3",
   "version": "3.11.2"
  }
 },
 "nbformat": 4,
 "nbformat_minor": 5
}
